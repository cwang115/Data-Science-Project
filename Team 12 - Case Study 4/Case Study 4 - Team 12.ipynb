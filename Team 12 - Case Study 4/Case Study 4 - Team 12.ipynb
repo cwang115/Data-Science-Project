{
 "cells": [
  {
   "cell_type": "markdown",
   "metadata": {},
   "source": [
    "### Case Study 4 :  Data Science Shark Tank:  Pitch Your Ideas\n",
    "\n",
    "** Due Date: December 7, 6pm**\n",
    "BEFORE the beginning of class at 6:00pm\n",
    "NOTE: There are always last minute issues submitting the case studies. DO NOT WAIT UNTIL THE LAST MINUTE!\n",
    "\n",
    "<img src=\"https://cp.inkrefuge.com/images%5Cpressreleases/shark%20tank_large.jpg\" width=\"400px\"> "
   ]
  },
  {
   "cell_type": "markdown",
   "metadata": {},
   "source": [
    "After the previous 3 case studies,  your team is now equipped with the three powerful skills of data science: Hacking skill, Business skill and Math skill. In this project, your team is going to make use of these skills to come up with an idea of a new business/startup based upon data science technology. Your goal is to design a better service/solution on any data you like, develop a prototype/demo and prepare a pitch for your idea.\n",
    "* Your team needs to decide which business problem is important for the market you are joining in (for example, social media market, housing market, search market, etc.).\n",
    "* Then design a data science approach to improve one of the current services or design a new service on any data that you choose.\n",
    "* The solution should include all the three components of data science: 1) the business part to analyze the potential impact of your new/improved service, why the idea can make money, how much are you evaluating the company; How are you planing to persuade the sharks to invest in your business; 2) the mathematical part to formulate the problem and develop math solution; 3) the programming part to collect the data, implement the math solution, and develop the prototype/demo.\n",
    "* NOTE, as opposed to the first three case studies, case study 4 is much more open ended.  \n",
    "  * Business is the focus\n",
    "  * All three parts need to appear (Business, Computer Science, and Math)\n",
    "  * However, the precise balance is up to you."
   ]
  },
  {
   "cell_type": "markdown",
   "metadata": {},
   "source": [
    "# Background about Elevator Pitch (90 seconds) and Shark Tank"
   ]
  },
  {
   "cell_type": "code",
   "execution_count": 1,
   "metadata": {},
   "outputs": [
    {
     "data": {
      "image/jpeg": "[encoded data removed]",
      "text/html": [
       "\n",
       "        <iframe\n",
       "            width=\"400\"\n",
       "            height=\"300\"\n",
       "            src=\"https://www.youtube.com/embed/3UuFR4Y4uw8\"\n",
       "            frameborder=\"0\"\n",
       "            allowfullscreen\n",
       "        ></iframe>\n",
       "        "
      ],
      "text/plain": [
       "<IPython.lib.display.YouTubeVideo at 0x2ab1ba87d68>"
      ]
     },
     "execution_count": 1,
     "metadata": {},
     "output_type": "execute_result"
    }
   ],
   "source": [
    "from IPython.display import YouTubeVideo\n",
    "YouTubeVideo(\"3UuFR4Y4uw8\") "
   ]
  },
  {
   "cell_type": "code",
   "execution_count": 2,
   "metadata": {},
   "outputs": [
    {
     "data": {
      "image/jpeg": "[encoded data removed]",
      "text/html": [
       "\n",
       "        <iframe\n",
       "            width=\"400\"\n",
       "            height=\"300\"\n",
       "            src=\"https://www.youtube.com/embed/xIq8Sg59UdY\"\n",
       "            frameborder=\"0\"\n",
       "            allowfullscreen\n",
       "        ></iframe>\n",
       "        "
      ],
      "text/plain": [
       "<IPython.lib.display.YouTubeVideo at 0x1e1d529c390>"
      ]
     },
     "execution_count": 2,
     "metadata": {},
     "output_type": "execute_result"
    }
   ],
   "source": [
    "YouTubeVideo(\"xIq8Sg59UdY\") "
   ]
  },
  {
   "cell_type": "markdown",
   "metadata": {},
   "source": [
    "### Two videos on storytelling"
   ]
  },
  {
   "cell_type": "markdown",
   "metadata": {},
   "source": [
    "https://video.wpi.edu/Watch/g2T4NjBn"
   ]
  },
  {
   "cell_type": "markdown",
   "metadata": {},
   "source": [
    "https://video.wpi.edu/Watch/q2A6Dbg3"
   ]
  },
  {
   "cell_type": "markdown",
   "metadata": {},
   "source": [
    "\n",
    "**Optional Readings:** \n",
    "* LinkedIn API: https://developer.linkedin.com/docs/rest-api\n",
    "* Zillow API: https://pypi.python.org/pypi/pyzillow\n",
    "* Google Map API: https://developers.google.com/api-client-library/python/apis/mapsengine/v1?hl=en\n",
    "* More APIs: https://github.com/ptwobrussell/Mining-the-Social-Web-2nd-Edition\n",
    "\n",
    "\n",
    "** Python libraries you may want to use:**\n",
    "* Scikit-learn (http://scikit-learn.org): machine learning tools in Python.\n",
    "\n",
    "** Data sources:**\n",
    "* UCI Machine Learning Repository: http://archive.ics.uci.edu/ml/ \n",
    "* Statlib datasets: http://lib.stat.cmu.edu/\n",
    "* Kaggel: www.kaggle.com \n",
    "* Open Gov. Data: www.data.gov, www.data.gov.uk, www.data.gov.fr, http://opengovernmentdata.org/data/catalogues/   \n",
    "\n",
    "** NOTE **\n",
    "* Please don't forget to save the notebook frequently when working in IPython Notebook, otherwise the changes you made can be lost.\n",
    "\n",
    "*----------------------"
   ]
  },
  {
   "cell_type": "markdown",
   "metadata": {},
   "source": [
    "### Problem 1: the Business Part (20 points)\n",
    " As a group, learn about the data science related business and research about the current markets: such as search, social media, advertisement, recommendation and so on.\n",
    "Pick one of the markets for further consideration, and design a new service  which you believe to be important in the market. \n",
    "Define precisely in the report and briefly in the cells below, what is the business problem that your team wants to solve.\n",
    "Why the problem is important to solve? \n",
    "Why you believe you could make a big difference with data science technology.\n",
    "How are you planing to persuade the investors to buy in your idea."
   ]
  },
  {
   "cell_type": "markdown",
   "metadata": {},
   "source": [
    "**1) Your business problem to solve:**\n",
    "\n",
    "-  Select top restaurant in an area.\n",
    "-  Recommend potential friends to users based on second level friend and based on similarity\n",
    "-  Recommend potential users to business owners using Collaborative Filtering Model based on LMF**\n",
    "\n",
    "\n",
    "Yelp contains reviews for various businesses and helps the user in choosing a restaurant, spas, shopping malls etc. Users can search/choose restaurants based on a location, cuisine and then decide if that’s a good choice based on the reviews given by other users. Our business problem is to help users make a more accurate choice quickly by suggesting popular restaurants in town and also helps the users in finding friends to make yelp a social media platform where users with similar taste preferences can interact and finally it helps business owners know their potential customers so that they can maximize their profits."
   ]
  },
  {
   "cell_type": "markdown",
   "metadata": {},
   "source": [
    "**2) Why the problem is important to solve? **\n",
    "\n",
    "We believe this is an important problem to solve because, this would \n",
    "-  Make it easier and quicker for a user to choose a restaurant by making suggestions of popular restaurants\n",
    "-  Allow users to find likeminded friends (other users with similar tastes/preferences), and thus serve as a social media platform \n",
    "-  Allow restaurants to find their potential customers, which helps them to maximize their profits by luring these potential customers.\n",
    "This would help make yelp a more useful tool for users.\n",
    "\n"
   ]
  },
  {
   "cell_type": "markdown",
   "metadata": {},
   "source": [
    "**3) What is your idea to solve the problem? **\n",
    "\n",
    "By analyzing the reviews, we can find the similarity between users’ preferences and likes, we can group users based on these similarities. \n",
    "\n",
    "**Recommend popular restaurant to users** \n",
    "-\tWe define this problem as a clustering mathematic problem. The input of the clustering is review count, average rating, percentage of positive ratings and percentage of negative ratings.\n",
    "\n",
    "**Recommend friends to users**\n",
    "-\tWe use two methods first one is by similarity and next by making use of 2nd degree relationship. For based on similarity we use several attributes in user profile as the basis of similarity calculation, such as ‘useful’, ‘funny’, ‘cool’, ‘friends’, ‘fans’, ‘review_count’, etc.  and their proportion in all the compliment user received. We normalized these features with then do Kmeans clustering and we output 10 friends.\n",
    "-  For based on second degree relationship we try to explore 2nd friend network and make recommendations. Basically, the idea of this solution is based on graph model.\n",
    "\n",
    "**Recommend potential users to business owners**\n",
    "-\tWe make use of collaborative filtering based on latent factor model.\n",
    "\n"
   ]
  },
  {
   "cell_type": "markdown",
   "metadata": {},
   "source": [
    "**4) What differences you could make with your data science approach?**\n",
    "\n",
    "By using data science approach, we are able to provide an efficient and low-cost way of marketing to business owners. Since business owners will be able to retrieve the information of their prospective customers, they will save more money and time to achieve the best result by focusing on only the customers that are more likely to visit. Also with the power of social platform which is based on graph model, yelp as well as business owners will be able to engage with customers more and provide a better customer experience."
   ]
  },
  {
   "cell_type": "markdown",
   "metadata": {},
   "source": [
    "**5) Why do you believe the idea deserves the investment of the \"sharks\"?**\n",
    "\n",
    "\n",
    "We believe our idea deserves the investment of the sharks because our proposed system makes yelp a more attractive tool, by helping users make a better decision based on suggestions, helps liked minded users to become friends, and most importantly it helps the restaurant owners to identify their potential customers and maximize their profits by targeting these customers who are more likely to visit than other customers who are most likely never going to visit.\n",
    "\n",
    "\n"
   ]
  },
  {
   "cell_type": "markdown",
   "metadata": {},
   "source": [
    "### Problem 2: The Math Part (20 points)"
   ]
  },
  {
   "cell_type": "markdown",
   "metadata": {},
   "source": [
    "Define the business problem as a math problem and design a math solution to the problem.\n"
   ]
  },
  {
   "cell_type": "markdown",
   "metadata": {},
   "source": [
    "**Insert your answers here**\n",
    "\n",
    "\n",
    "1) Problem formulation in Math:\n",
    "\n",
    "\n",
    "\n",
    "\n",
    "2) Math Solution:\n",
    "\n",
    "\n",
    "\n",
    "\n",
    "\n",
    "\n",
    "3) Implementation of the Solution\n"
   ]
  },
  {
   "cell_type": "code",
   "execution_count": 1,
   "metadata": {},
   "outputs": [
    {
     "name": "stdout",
     "output_type": "stream",
     "text": [
      "Populating the interactive namespace from numpy and matplotlib\n",
      "[nltk_data] Downloading package punkt to\n",
      "[nltk_data]     C:\\Users\\Saranya\\AppData\\Roaming\\nltk_data...\n",
      "[nltk_data]   Package punkt is already up-to-date!\n"
     ]
    }
   ],
   "source": [
    "#Global import\n",
    "%matplotlib inline\n",
    "%pylab inline\n",
    "import re\n",
    "import json\n",
    "import nltk\n",
    "import string\n",
    "import warnings\n",
    "warnings.filterwarnings(\"ignore\")\n",
    "import pandas as pd\n",
    "import numpy as np\n",
    "import seaborn as sns\n",
    "import matplotlib.pyplot as plt\n",
    "import plotly.plotly as py\n",
    "from nltk import word_tokenize\n",
    "from nltk.corpus import stopwords\n",
    "nltk.download('punkt')\n",
    "from sklearn.metrics import confusion_matrix, classification_report\n",
    "from wordcloud import WordCloud\n",
    "from sklearn.feature_extraction.text import CountVectorizer\n",
    "from sklearn.model_selection import train_test_split\n",
    "from sklearn.naive_bayes import MultinomialNB\n",
    "from sklearn.naive_bayes import GaussianNB\n",
    "from sklearn.svm import SVC\n",
    "from sklearn.neighbors import KNeighborsClassifier\n",
    "from plotly.graph_objs import *"
   ]
  },
  {
   "cell_type": "markdown",
   "metadata": {
    "collapsed": true
   },
   "source": [
    "## Importing Datasets"
   ]
  },
  {
   "cell_type": "code",
   "execution_count": 2,
   "metadata": {
    "collapsed": true
   },
   "outputs": [],
   "source": [
    "#Business dataset\n",
    "business = pd.read_json('business_sample.json',lines=True)"
   ]
  },
  {
   "cell_type": "code",
   "execution_count": 3,
   "metadata": {
    "collapsed": true
   },
   "outputs": [],
   "source": [
    "#Review dataset\n",
    "review = pd.read_json('review_sample.json',lines=True)"
   ]
  },
  {
   "cell_type": "code",
   "execution_count": 4,
   "metadata": {
    "collapsed": true
   },
   "outputs": [],
   "source": [
    "#User dataset\n",
    "user = pd.read_json('user_sample.json',lines=True)"
   ]
  },
  {
   "cell_type": "markdown",
   "metadata": {},
   "source": [
    "## Data Analysis"
   ]
  },
  {
   "cell_type": "code",
   "execution_count": null,
   "metadata": {
    "collapsed": true
   },
   "outputs": [],
   "source": [
    "# Find restaurants whose star rating is more than 4.0"
   ]
  },
  {
   "cell_type": "code",
   "execution_count": 80,
   "metadata": {},
   "outputs": [
    {
     "name": "stdout",
     "output_type": "stream",
     "text": [
      "The number of business that have an average rating over 4.0 are:  3002\n",
      "The business with average rating greater than 4.0 are listed below:\n"
     ]
    },
    {
     "data": {
      "text/html": [
       "<div>\n",
       "<style>\n",
       "    .dataframe thead tr:only-child th {\n",
       "        text-align: right;\n",
       "    }\n",
       "\n",
       "    .dataframe thead th {\n",
       "        text-align: left;\n",
       "    }\n",
       "\n",
       "    .dataframe tbody tr th {\n",
       "        vertical-align: top;\n",
       "    }\n",
       "</style>\n",
       "<table border=\"1\" class=\"dataframe\">\n",
       "  <thead>\n",
       "    <tr>\n",
       "      <th></th>\n",
       "      <th>mean</th>\n",
       "    </tr>\n",
       "    <tr>\n",
       "      <th></th>\n",
       "      <th>stars</th>\n",
       "    </tr>\n",
       "    <tr>\n",
       "      <th>business_id</th>\n",
       "      <th></th>\n",
       "    </tr>\n",
       "  </thead>\n",
       "  <tbody>\n",
       "    <tr>\n",
       "      <th>--sdH6tFAdEs7j4Msr7nPA</th>\n",
       "      <td>5.0</td>\n",
       "    </tr>\n",
       "    <tr>\n",
       "      <th>-7jfn3wrS_grXiYbefKucQ</th>\n",
       "      <td>5.0</td>\n",
       "    </tr>\n",
       "    <tr>\n",
       "      <th>-C1TuPTKUq-s5VPAcg81Sg</th>\n",
       "      <td>4.5</td>\n",
       "    </tr>\n",
       "    <tr>\n",
       "      <th>-EhqH2gxvKjRTOtR-O9BCA</th>\n",
       "      <td>5.0</td>\n",
       "    </tr>\n",
       "    <tr>\n",
       "      <th>-FrNp2XC5AN7J57ozQ2dLw</th>\n",
       "      <td>4.5</td>\n",
       "    </tr>\n",
       "  </tbody>\n",
       "</table>\n",
       "</div>"
      ],
      "text/plain": [
       "                        mean\n",
       "                       stars\n",
       "business_id                 \n",
       "--sdH6tFAdEs7j4Msr7nPA   5.0\n",
       "-7jfn3wrS_grXiYbefKucQ   5.0\n",
       "-C1TuPTKUq-s5VPAcg81Sg   4.5\n",
       "-EhqH2gxvKjRTOtR-O9BCA   5.0\n",
       "-FrNp2XC5AN7J57ozQ2dLw   4.5"
      ]
     },
     "execution_count": 80,
     "metadata": {},
     "output_type": "execute_result"
    }
   ],
   "source": [
    "#Using pivot table to find restaurants with stars more than 4.0\n",
    "df_business = pd.DataFrame(columns=['business_id','name','stars']) \n",
    "for i in business.business_id:\n",
    "    name_business_id_1 = business[business[\"business_id\"] == i][\"business_id\"]\n",
    "    name_business_name_1 = business[business[\"business_id\"] == i][\"name\"]\n",
    "    name_business_stars_1 = business[business[\"business_id\"] == i][\"stars\"]\n",
    "    for b,n,s in zip(name_business_id_1,name_business_name_1, name_business_stars_1):\n",
    "        df_business = df_business.append({'business_id':b,'name':n,'stars':s}, ignore_index=True)\n",
    "        x_business = pd.pivot_table(df_business,index=[\"business_id\"],values=[\"stars\"],aggfunc=[np.mean])\n",
    "        x_business = x_business[x_business.values > 4.0] \n",
    "print(\"The number of business that have an average rating over 4.0 are: \",len(x_business.index))\n",
    "print(\"The business with average rating greater than 4.0 are listed below:\")\n",
    "x_business.head()"
   ]
  },
  {
   "cell_type": "code",
   "execution_count": null,
   "metadata": {
    "collapsed": true
   },
   "outputs": [],
   "source": [
    "# Sort the businesses based on useful, cool, funny and stars"
   ]
  },
  {
   "cell_type": "code",
   "execution_count": 65,
   "metadata": {
    "collapsed": true
   },
   "outputs": [],
   "source": [
    "#Takes lots of time to run\n",
    "sorted_business = pd.pivot_table(review,index=[\"business_id\"],values=[\"stars\",\"cool\",\"funny\",\"useful\"],aggfunc=\"sum\")\n",
    "final_business_ids = pd.DataFrame(columns=['business_id','review_id','name','stars','cool','useful','funny'])\n",
    "for i in sorted_business.index:\n",
    "    name_business_id = review[review[\"business_id\"] == i][\"business_id\"]\n",
    "    name_review_id = review[review.business_id == i][\"review_id\"]\n",
    "    name_business_name = business[business[\"business_id\"] == i][\"name\"]\n",
    "    name_business_stars = review[review.business_id == i][\"stars\"]\n",
    "    name_business_cool = review[review.business_id == i][\"cool\"]\n",
    "    name_business_funny = review[review.business_id == i][\"funny\"]\n",
    "    name_business_useful = review[review.business_id == i][\"useful\"]\n",
    "    name_business_text = review[review.business_id == i][\"text\"]\n",
    "    for b,rid,n,s,c,f,u,t in zip(name_business_id,name_review_id,name_business_name,\n",
    "                     name_business_stars,name_business_cool,name_business_funny,name_business_useful,name_business_text):\n",
    "        final_business_ids = final_business_ids.append({'business_id':b,'review_id':rid,\n",
    "                                'name':n,'stars':s,'cool':c,'useful':u,'funny':f,'text':t}, ignore_index=True)"
   ]
  },
  {
   "cell_type": "code",
   "execution_count": 79,
   "metadata": {
    "scrolled": false
   },
   "outputs": [
    {
     "data": {
      "text/plain": [
       "<matplotlib.axes._subplots.AxesSubplot at 0x22d3b12d2e8>"
      ]
     },
     "execution_count": 79,
     "metadata": {},
     "output_type": "execute_result"
    },
    {
     "data": {
      "image/png": "[encoded data removed]",
      "text/plain": [
       "<matplotlib.figure.Figure at 0x22d6ba787f0>"
      ]
     },
     "metadata": {},
     "output_type": "display_data"
    }
   ],
   "source": [
    "sb = pd.pivot_table(final_business_ids,index=[\"name\"],values=[\"stars\",\"cool\",\"funny\",\"useful\"],aggfunc=\"sum\")\n",
    "sorted_useful = sb.sort_values([('useful')],ascending=False)[:10]\n",
    "sorted_cool = sb.sort_values([('cool')],ascending=False)[:10]\n",
    "sorted_funny = sb.sort_values([('funny')],ascending=False)[:10]\n",
    "sorted_stars = sb.sort_values([('stars')],ascending=False)[:10]\n",
    "\n",
    "#Display the above value as barplot\n",
    "f, axes = plt.subplots(nrows=2,ncols=2,figsize=(12,12))\n",
    "f.subplots_adjust(wspace=1)\n",
    "sorted_useful.plot(kind=\"barh\",stacked=True,title='Useful votes',ax=axes[0,0])\n",
    "sorted_cool.plot(kind=\"barh\",stacked=True,title='Cool votes',ax=axes[0,1])\n",
    "sorted_funny.plot(kind=\"barh\",stacked=True, title='Funny votes',ax=axes[1,0])\n",
    "sorted_stars.plot(kind=\"barh\",stacked=True, title='Stars',ax=axes[1,1])"
   ]
  },
  {
   "cell_type": "code",
   "execution_count": null,
   "metadata": {
    "collapsed": true
   },
   "outputs": [],
   "source": [
    "# Finding unique words in top reviews and creating WordCloud"
   ]
  },
  {
   "cell_type": "code",
   "execution_count": 54,
   "metadata": {
    "collapsed": true
   },
   "outputs": [],
   "source": [
    "def unique_words(text):\n",
    "    words_freq = pd.DataFrame(columns={'words','freq'})\n",
    "    nopunc = [char for char in text if char not in string.punctuation]\n",
    "    \n",
    "    nopunc = ''.join(nopunc)\n",
    "    for word in nopunc.split():\n",
    "        if word.lower() not in stopwords.words('english'):\n",
    "            w = word\n",
    "            wfreq = word.count(w) \n",
    "            words_freq = words_freq.append({'words':w,'freq':wfreq}, ignore_index=True)\n",
    "    return (words_freq)"
   ]
  },
  {
   "cell_type": "code",
   "execution_count": 56,
   "metadata": {
    "collapsed": true
   },
   "outputs": [],
   "source": [
    "for n in review.text[:1000]:\n",
    "    freq = unique_words(n).sort_values([('freq')],ascending=False)[:100]"
   ]
  },
  {
   "cell_type": "code",
   "execution_count": 57,
   "metadata": {
    "scrolled": true
   },
   "outputs": [
    {
     "data": {
      "image/png": "[encoded data removed]",
      "text/plain": [
       "<matplotlib.figure.Figure at 0x22d01ac3a90>"
      ]
     },
     "metadata": {},
     "output_type": "display_data"
    }
   ],
   "source": [
    "words_cloud = []\n",
    "letters_only = re.sub(\"[^a-zA-Z]\", \" \", str(freq.words))\n",
    "spaces_remove = re.sub(\"[\\s]+\", \" \", str(letters_only))\n",
    "spaces_remove = spaces_remove.rsplit(' ', 4)[0]\n",
    "wordcloud = WordCloud(background_color=\"white\").generate(spaces_remove)\n",
    "plt.figure()\n",
    "plt.imshow(wordcloud, interpolation=\"bilinear\")\n",
    "plt.axis(\"off\")\n",
    "plt.show()"
   ]
  },
  {
   "cell_type": "markdown",
   "metadata": {},
   "source": [
    "## Sentimental Analysis for reviews"
   ]
  },
  {
   "cell_type": "code",
   "execution_count": null,
   "metadata": {
    "collapsed": true
   },
   "outputs": [],
   "source": [
    "# Predict whether a review is good or bad"
   ]
  },
  {
   "cell_type": "code",
   "execution_count": 5,
   "metadata": {},
   "outputs": [
    {
     "data": {
      "text/html": [
       "<div>\n",
       "<style>\n",
       "    .dataframe thead tr:only-child th {\n",
       "        text-align: right;\n",
       "    }\n",
       "\n",
       "    .dataframe thead th {\n",
       "        text-align: left;\n",
       "    }\n",
       "\n",
       "    .dataframe tbody tr th {\n",
       "        vertical-align: top;\n",
       "    }\n",
       "</style>\n",
       "<table border=\"1\" class=\"dataframe\">\n",
       "  <thead>\n",
       "    <tr style=\"text-align: right;\">\n",
       "      <th></th>\n",
       "      <th>business_id</th>\n",
       "      <th>cool</th>\n",
       "      <th>date</th>\n",
       "      <th>funny</th>\n",
       "      <th>review_id</th>\n",
       "      <th>stars</th>\n",
       "      <th>text</th>\n",
       "      <th>useful</th>\n",
       "      <th>user_id</th>\n",
       "      <th>text length</th>\n",
       "    </tr>\n",
       "  </thead>\n",
       "  <tbody>\n",
       "    <tr>\n",
       "      <th>0</th>\n",
       "      <td>wtazPNyIbsRMHmrpEYbqZA</td>\n",
       "      <td>0</td>\n",
       "      <td>2016-09-13</td>\n",
       "      <td>0</td>\n",
       "      <td>QqXa7pnQYcyyUHI2uo1J9Q</td>\n",
       "      <td>4</td>\n",
       "      <td>Much better! I frequent the Charlotte area for...</td>\n",
       "      <td>0</td>\n",
       "      <td>9dWPoN02z3JBbmqjtz2_tg</td>\n",
       "      <td>563</td>\n",
       "    </tr>\n",
       "    <tr>\n",
       "      <th>1</th>\n",
       "      <td>wtazPNyIbsRMHmrpEYbqZA</td>\n",
       "      <td>0</td>\n",
       "      <td>2017-06-22</td>\n",
       "      <td>0</td>\n",
       "      <td>77vyq7BxQ9QBRdys1W_aDg</td>\n",
       "      <td>4</td>\n",
       "      <td>What I had was good .. jerk chicken combo with...</td>\n",
       "      <td>0</td>\n",
       "      <td>Cqn_766h_JpQoV6fwizJhg</td>\n",
       "      <td>133</td>\n",
       "    </tr>\n",
       "    <tr>\n",
       "      <th>2</th>\n",
       "      <td>wtazPNyIbsRMHmrpEYbqZA</td>\n",
       "      <td>0</td>\n",
       "      <td>2011-06-25</td>\n",
       "      <td>0</td>\n",
       "      <td>kPp5xyH5QMr8wxYz6ylNFw</td>\n",
       "      <td>4</td>\n",
       "      <td>I was SO excited to see Golden Krust outside N...</td>\n",
       "      <td>2</td>\n",
       "      <td>DDFAI_WROA_J8FF8dWe_6Q</td>\n",
       "      <td>273</td>\n",
       "    </tr>\n",
       "    <tr>\n",
       "      <th>3</th>\n",
       "      <td>wtazPNyIbsRMHmrpEYbqZA</td>\n",
       "      <td>0</td>\n",
       "      <td>2017-03-24</td>\n",
       "      <td>0</td>\n",
       "      <td>8eLLSpaJnzNF-wckRiQnQQ</td>\n",
       "      <td>2</td>\n",
       "      <td>Prepare to be flexible because a lot of things...</td>\n",
       "      <td>0</td>\n",
       "      <td>zSblIQYZhN0gauAhIx46Tg</td>\n",
       "      <td>361</td>\n",
       "    </tr>\n",
       "    <tr>\n",
       "      <th>4</th>\n",
       "      <td>wtazPNyIbsRMHmrpEYbqZA</td>\n",
       "      <td>0</td>\n",
       "      <td>2015-01-03</td>\n",
       "      <td>0</td>\n",
       "      <td>bQH4t-oqo-5JUlTLq_pn1w</td>\n",
       "      <td>3</td>\n",
       "      <td>I really enjoy Jamaican food and was excited t...</td>\n",
       "      <td>2</td>\n",
       "      <td>QQ7sxRNs0A4uFK6pQE4AYw</td>\n",
       "      <td>291</td>\n",
       "    </tr>\n",
       "  </tbody>\n",
       "</table>\n",
       "</div>"
      ],
      "text/plain": [
       "              business_id  cool       date  funny               review_id  \\\n",
       "0  wtazPNyIbsRMHmrpEYbqZA     0 2016-09-13      0  QqXa7pnQYcyyUHI2uo1J9Q   \n",
       "1  wtazPNyIbsRMHmrpEYbqZA     0 2017-06-22      0  77vyq7BxQ9QBRdys1W_aDg   \n",
       "2  wtazPNyIbsRMHmrpEYbqZA     0 2011-06-25      0  kPp5xyH5QMr8wxYz6ylNFw   \n",
       "3  wtazPNyIbsRMHmrpEYbqZA     0 2017-03-24      0  8eLLSpaJnzNF-wckRiQnQQ   \n",
       "4  wtazPNyIbsRMHmrpEYbqZA     0 2015-01-03      0  bQH4t-oqo-5JUlTLq_pn1w   \n",
       "\n",
       "   stars                                               text  useful  \\\n",
       "0      4  Much better! I frequent the Charlotte area for...       0   \n",
       "1      4  What I had was good .. jerk chicken combo with...       0   \n",
       "2      4  I was SO excited to see Golden Krust outside N...       2   \n",
       "3      2  Prepare to be flexible because a lot of things...       0   \n",
       "4      3  I really enjoy Jamaican food and was excited t...       2   \n",
       "\n",
       "                  user_id  text length  \n",
       "0  9dWPoN02z3JBbmqjtz2_tg          563  \n",
       "1  Cqn_766h_JpQoV6fwizJhg          133  \n",
       "2  DDFAI_WROA_J8FF8dWe_6Q          273  \n",
       "3  zSblIQYZhN0gauAhIx46Tg          361  \n",
       "4  QQ7sxRNs0A4uFK6pQE4AYw          291  "
      ]
     },
     "execution_count": 5,
     "metadata": {},
     "output_type": "execute_result"
    }
   ],
   "source": [
    "review['text length'] = review['text'].apply(len)\n",
    "review.head()"
   ]
  },
  {
   "cell_type": "code",
   "execution_count": 6,
   "metadata": {},
   "outputs": [
    {
     "data": {
      "text/plain": [
       "<seaborn.axisgrid.FacetGrid at 0x22d00991668>"
      ]
     },
     "execution_count": 6,
     "metadata": {},
     "output_type": "execute_result"
    },
    {
     "data": {
      "image/png": "[encoded data removed]",
      "text/plain": [
       "<matplotlib.figure.Figure at 0x22d00991c88>"
      ]
     },
     "metadata": {},
     "output_type": "display_data"
    }
   ],
   "source": [
    "g = sns.FacetGrid(data=review, col='stars')\n",
    "g.map(plt.hist, 'text length', bins=50)"
   ]
  },
  {
   "cell_type": "code",
   "execution_count": 7,
   "metadata": {},
   "outputs": [
    {
     "data": {
      "text/plain": [
       "<matplotlib.axes._subplots.AxesSubplot at 0x22d0151b4a8>"
      ]
     },
     "execution_count": 7,
     "metadata": {},
     "output_type": "execute_result"
    },
    {
     "data": {
      "image/png": "[encoded data removed]",
      "text/plain": [
       "<matplotlib.figure.Figure at 0x22d0152a128>"
      ]
     },
     "metadata": {},
     "output_type": "display_data"
    }
   ],
   "source": [
    "f,ax = plt.subplots(figsize=(5,5))\n",
    "sns.boxplot(x='stars', y='text length', data=review, ax=ax)"
   ]
  },
  {
   "cell_type": "code",
   "execution_count": 8,
   "metadata": {},
   "outputs": [
    {
     "data": {
      "text/plain": [
       "(141953, 10)"
      ]
     },
     "execution_count": 8,
     "metadata": {},
     "output_type": "execute_result"
    }
   ],
   "source": [
    "yelp_class = review[(review['stars'] == 1) | (review['stars'] == 5)]\n",
    "yelp_class.shape"
   ]
  },
  {
   "cell_type": "code",
   "execution_count": 9,
   "metadata": {
    "collapsed": true
   },
   "outputs": [],
   "source": [
    "#Preferred 1000 because for all reviews running fit() take a lot of time\n",
    "X = yelp_class['text'][:1000]\n",
    "y = yelp_class['stars'][:1000]"
   ]
  },
  {
   "cell_type": "code",
   "execution_count": 10,
   "metadata": {
    "collapsed": true
   },
   "outputs": [],
   "source": [
    "def text_process(text):\n",
    "    '''\n",
    "    Takes in a string of text, then performs the following:\n",
    "    1. Remove all punctuation\n",
    "    2. Remove all stopwords\n",
    "    3. Return the cleaned text as a list of words\n",
    "    '''\n",
    "    nopunc = [char for char in text if char not in string.punctuation]\n",
    "    nopunc = ''.join(nopunc)\n",
    "    return [word for word in nopunc.split() if word.lower() not in stopwords.words('english')]"
   ]
  },
  {
   "cell_type": "code",
   "execution_count": 11,
   "metadata": {
    "collapsed": true
   },
   "outputs": [],
   "source": [
    "bow_transformer = CountVectorizer(analyzer=text_process).fit(X)"
   ]
  },
  {
   "cell_type": "code",
   "execution_count": 12,
   "metadata": {},
   "outputs": [
    {
     "data": {
      "text/plain": [
       "8838"
      ]
     },
     "execution_count": 12,
     "metadata": {},
     "output_type": "execute_result"
    }
   ],
   "source": [
    "len(bow_transformer.vocabulary_)"
   ]
  },
  {
   "cell_type": "code",
   "execution_count": 28,
   "metadata": {},
   "outputs": [
    {
     "name": "stdout",
     "output_type": "stream",
     "text": [
      "Much\n",
      "Hot\n"
     ]
    }
   ],
   "source": [
    "review_25 = X[1835]\n",
    "bow_25 = bow_transformer.transform([review_25])\n",
    "print(bow_transformer.get_feature_names()[1513])\n",
    "print(bow_transformer.get_feature_names()[1132])"
   ]
  },
  {
   "cell_type": "code",
   "execution_count": 29,
   "metadata": {},
   "outputs": [
    {
     "name": "stdout",
     "output_type": "stream",
     "text": [
      "Shape of Sparse Matrix:  (1000, 8838)\n",
      "Amount of Non-Zero occurrences:  45184\n"
     ]
    }
   ],
   "source": [
    "X = bow_transformer.transform(X)\n",
    "print('Shape of Sparse Matrix: ', X.shape)\n",
    "print('Amount of Non-Zero occurrences: ', X.nnz)\n",
    "X_train, X_test, y_train, y_test = train_test_split(X, y, test_size=0.25, random_state=None)"
   ]
  },
  {
   "cell_type": "code",
   "execution_count": 30,
   "metadata": {},
   "outputs": [
    {
     "data": {
      "text/plain": [
       "MultinomialNB(alpha=1.0, class_prior=None, fit_prior=True)"
      ]
     },
     "execution_count": 30,
     "metadata": {},
     "output_type": "execute_result"
    }
   ],
   "source": [
    "#MultinomialNB\n",
    "nb = MultinomialNB()\n",
    "nb.fit(X_train, y_train.astype(int))"
   ]
  },
  {
   "cell_type": "code",
   "execution_count": 31,
   "metadata": {},
   "outputs": [
    {
     "data": {
      "text/plain": [
       "GaussianNB(priors=None)"
      ]
     },
     "execution_count": 31,
     "metadata": {},
     "output_type": "execute_result"
    }
   ],
   "source": [
    "#GaussianNB\n",
    "gnb = GaussianNB()\n",
    "gnb.fit(X_train.toarray(), y_train.astype(int))"
   ]
  },
  {
   "cell_type": "code",
   "execution_count": 32,
   "metadata": {},
   "outputs": [
    {
     "data": {
      "text/plain": [
       "SVC(C=1.0, cache_size=200, class_weight=None, coef0=0.0,\n",
       "  decision_function_shape=None, degree=3, gamma='auto', kernel='rbf',\n",
       "  max_iter=-1, probability=False, random_state=None, shrinking=True,\n",
       "  tol=0.001, verbose=False)"
      ]
     },
     "execution_count": 32,
     "metadata": {},
     "output_type": "execute_result"
    }
   ],
   "source": [
    "#C-Support Vector Classification.\n",
    "clf = SVC()\n",
    "clf.fit(X_train.toarray(), y_train.astype(int))"
   ]
  },
  {
   "cell_type": "code",
   "execution_count": 33,
   "metadata": {},
   "outputs": [
    {
     "data": {
      "text/plain": [
       "KNeighborsClassifier(algorithm='auto', leaf_size=30, metric='minkowski',\n",
       "           metric_params=None, n_jobs=1, n_neighbors=3, p=2,\n",
       "           weights='uniform')"
      ]
     },
     "execution_count": 33,
     "metadata": {},
     "output_type": "execute_result"
    }
   ],
   "source": [
    "#KNeighborsClassifier\n",
    "neigh = KNeighborsClassifier(n_neighbors=3)\n",
    "neigh.fit(X_train.toarray(), y_train.astype(int))"
   ]
  },
  {
   "cell_type": "markdown",
   "metadata": {},
   "source": [
    "### Testing and evaluating our model"
   ]
  },
  {
   "cell_type": "code",
   "execution_count": 34,
   "metadata": {},
   "outputs": [
    {
     "name": "stdout",
     "output_type": "stream",
     "text": [
      "[[ 33   9]\n",
      " [  7 201]]\n",
      "             precision    recall  f1-score   support\n",
      "\n",
      "          1       0.82      0.79      0.80        42\n",
      "          5       0.96      0.97      0.96       208\n",
      "\n",
      "avg / total       0.93      0.94      0.94       250\n",
      "\n"
     ]
    }
   ],
   "source": [
    "#MultinomialNB\n",
    "preds = nb.predict(X_test)\n",
    "print(confusion_matrix(y_test.astype(int), preds))\n",
    "print(classification_report(y_test.astype(int), preds))"
   ]
  },
  {
   "cell_type": "markdown",
   "metadata": {},
   "source": [
    "### Predicting a singular positive/negative review"
   ]
  },
  {
   "cell_type": "code",
   "execution_count": 38,
   "metadata": {},
   "outputs": [
    {
     "data": {
      "text/plain": [
       "\"I am so glad that they got one of these stores here in Charlotte North Carolina I have been trying to find it I found you found Golden Krust Bakery you must eat their the best you're making pulled ever wish they had more big location that is just a little too far for me to get but I get there when I can try it you will love it Golden Krust the best ever\""
      ]
     },
     "execution_count": 38,
     "metadata": {},
     "output_type": "execute_result"
    }
   ],
   "source": [
    "positive_review = yelp_class['text'][9]\n",
    "positive_review"
   ]
  },
  {
   "cell_type": "code",
   "execution_count": 39,
   "metadata": {},
   "outputs": [
    {
     "data": {
      "text/plain": [
       "5"
      ]
     },
     "execution_count": 39,
     "metadata": {},
     "output_type": "execute_result"
    }
   ],
   "source": [
    "positive_review_transformed = bow_transformer.transform([positive_review])\n",
    "nb.predict(positive_review_transformed)[0]"
   ]
  },
  {
   "cell_type": "code",
   "execution_count": 51,
   "metadata": {},
   "outputs": [
    {
     "data": {
      "text/plain": [
       "\"This place is NOT Caribbean food! It's terrible. You must ask for a drink separate from the combo even though you've ordered a combo. They're not going to offer it to you either. The food tastes horrible. I wish I could sit outside and turn people around to save their souls. But unfortunately this is all I can do. Take heed and go elsewhere!!!!!\""
      ]
     },
     "execution_count": 51,
     "metadata": {},
     "output_type": "execute_result"
    }
   ],
   "source": [
    "negative_review = yelp_class['text'][15]\n",
    "negative_review"
   ]
  },
  {
   "cell_type": "code",
   "execution_count": 52,
   "metadata": {},
   "outputs": [
    {
     "data": {
      "text/plain": [
       "1"
      ]
     },
     "execution_count": 52,
     "metadata": {},
     "output_type": "execute_result"
    }
   ],
   "source": [
    "negative_review_transformed = bow_transformer.transform([negative_review])\n",
    "nb.predict(negative_review_transformed)[0]"
   ]
  },
  {
   "cell_type": "markdown",
   "metadata": {
    "collapsed": true
   },
   "source": [
    "### Model predicts wrong"
   ]
  },
  {
   "cell_type": "code",
   "execution_count": 46,
   "metadata": {},
   "outputs": [
    {
     "data": {
      "text/plain": [
       "\"What a dump! I rented this place because it had a convenient location and the price wasn't too bad. Although it says it's non-smoking, my room reeked of cigarette smoke! So bad that I thought I would have an asthma attack.  I don't mind that everything is outdated, it was a great price, but I seriously feel like I need to get a cootie shot.  The front desk staff was disheveled and very sloppy looking, and they were a direct representation of the hotel itself. Don't be fooled by the outside because the outside isn't too bad. Once you get inside, be prepared for filth on every kind of level.  I will never go back!  Management needs to wake up.\""
      ]
     },
     "execution_count": 46,
     "metadata": {},
     "output_type": "execute_result"
    }
   ],
   "source": [
    "another_review = yelp_class['text'][14234]\n",
    "another_review"
   ]
  },
  {
   "cell_type": "code",
   "execution_count": 47,
   "metadata": {},
   "outputs": [
    {
     "data": {
      "text/plain": [
       "5"
      ]
     },
     "execution_count": 47,
     "metadata": {},
     "output_type": "execute_result"
    }
   ],
   "source": [
    "another_review_transformed = bow_transformer.transform([another_review])\n",
    "nb.predict(another_review_transformed)[0]"
   ]
  },
  {
   "cell_type": "markdown",
   "metadata": {},
   "source": [
    "## Comparison of different learning algorithms."
   ]
  },
  {
   "cell_type": "code",
   "execution_count": 35,
   "metadata": {
    "scrolled": false
   },
   "outputs": [
    {
     "name": "stdout",
     "output_type": "stream",
     "text": [
      "[[ 21  21]\n",
      " [ 10 198]]\n",
      "             precision    recall  f1-score   support\n",
      "\n",
      "          1       0.68      0.50      0.58        42\n",
      "          5       0.90      0.95      0.93       208\n",
      "\n",
      "avg / total       0.87      0.88      0.87       250\n",
      "\n"
     ]
    }
   ],
   "source": [
    "#GaussianNB\n",
    "preds_gnb = gnb.predict(X_test.toarray())\n",
    "print(confusion_matrix(y_test.astype(int), preds_gnb))\n",
    "print(classification_report(y_test.astype(int), preds_gnb))"
   ]
  },
  {
   "cell_type": "code",
   "execution_count": 36,
   "metadata": {
    "scrolled": true
   },
   "outputs": [
    {
     "name": "stdout",
     "output_type": "stream",
     "text": [
      "[[  0  42]\n",
      " [  0 208]]\n",
      "             precision    recall  f1-score   support\n",
      "\n",
      "          1       0.00      0.00      0.00        42\n",
      "          5       0.83      1.00      0.91       208\n",
      "\n",
      "avg / total       0.69      0.83      0.76       250\n",
      "\n"
     ]
    }
   ],
   "source": [
    "#C-Support Vector Classification.\n",
    "preds_svc = clf.predict(X_test.toarray())\n",
    "print(confusion_matrix(y_test.astype(int), preds_svc))\n",
    "print(classification_report(y_test.astype(int), preds_svc))"
   ]
  },
  {
   "cell_type": "code",
   "execution_count": 37,
   "metadata": {
    "scrolled": true
   },
   "outputs": [
    {
     "name": "stdout",
     "output_type": "stream",
     "text": [
      "[[  3  39]\n",
      " [  1 207]]\n",
      "             precision    recall  f1-score   support\n",
      "\n",
      "          1       0.75      0.07      0.13        42\n",
      "          5       0.84      1.00      0.91       208\n",
      "\n",
      "avg / total       0.83      0.84      0.78       250\n",
      "\n"
     ]
    }
   ],
   "source": [
    "#KNeighborsClassifier\n",
    "preds_knc = neigh.predict(X_test.toarray())\n",
    "print(confusion_matrix(y_test.astype(int), preds_knc))\n",
    "print(classification_report(y_test.astype(int), preds_knc))"
   ]
  },
  {
   "cell_type": "code",
   "execution_count": 53,
   "metadata": {},
   "outputs": [
    {
     "data": {
      "image/png": "[encoded data removed]",
      "text/plain": [
       "<matplotlib.figure.Figure at 0x22d01a5d438>"
      ]
     },
     "metadata": {},
     "output_type": "display_data"
    }
   ],
   "source": [
    "fig = plt.figure(figsize(10,10))\n",
    "fig.subplots_adjust(wspace=1,hspace=0.10)\n",
    "#MultinominalNB\n",
    "conf_mnb = confusion_matrix(y_test.astype(int), preds) \n",
    "ax = plt.subplot(221)\n",
    "ax.matshow(conf_mnb,cmap='Blues')\n",
    "plt.title('MultinominalNB\\n\\n')\n",
    "plt.ylabel('True label')\n",
    "plt.xlabel('Predicted label')\n",
    "\n",
    "#GaussianNB\n",
    "conf_gnb = confusion_matrix(y_test.astype(int), preds_gnb) \n",
    "ax = plt.subplot(222)\n",
    "ax.matshow(conf_gnb,cmap='Oranges')\n",
    "plt.title('GaussianNB\\n\\n')\n",
    "plt.ylabel('True label')\n",
    "plt.xlabel('Predicted label')\n",
    "\n",
    "#SVC\n",
    "conf_svc = confusion_matrix(y_test.astype(int), preds_svc) \n",
    "ax = plt.subplot(223)\n",
    "ax.matshow(conf_svc,cmap='Greys')\n",
    "plt.title('SVC\\n\\n')\n",
    "plt.ylabel('True label')\n",
    "plt.xlabel('Predicted label')\n",
    "\n",
    "#KNeighborsClassifier\n",
    "conf_knc = confusion_matrix(y_test.astype(int), preds_knc) \n",
    "ax = plt.subplot(224)\n",
    "ax.matshow(conf_knc,cmap='Greens')\n",
    "plt.title('KNeighborsClassifier\\n\\n')\n",
    "plt.ylabel('True label')\n",
    "plt.xlabel('Predicted label')\n",
    "plt.show()"
   ]
  },
  {
   "cell_type": "markdown",
   "metadata": {},
   "source": [
    "### Problem 3: The Hacking Part  (20 points)\n"
   ]
  },
  {
   "cell_type": "markdown",
   "metadata": {},
   "source": [
    "* Data Collection\n",
    "* Implement a small Demo/Prototype/experiment result figures for the \"product\" of your data science company. You could use this demo during the Pitch"
   ]
  },
  {
   "cell_type": "markdown",
   "metadata": {},
   "source": [
    "# Data cleasing"
   ]
  },
  {
   "cell_type": "code",
   "execution_count": 1,
   "metadata": {},
   "outputs": [
    {
     "name": "stdout",
     "output_type": "stream",
     "text": [
      "{'OH': 10930, 'NC': 11299, 'ON': 26520, 'AZ': 47376, 'PA': 8916, 'NV': 30571, 'EDH': 3561, 'QC': 7273, 'WI': 4190, 'IL': 1667, 'BW': 3071, 'HLD': 175, 'SC': 583, 'ESX': 11, 'MLN': 185, 'FIF': 73, 'NYK': 42, 'NI': 11, 'ELN': 42, 'WLN': 36, '01': 6, 'C': 32, 'NY': 15, 'SCB': 5, 'AL': 2, 'BY': 4, 'RCC': 1, 'ST': 9, 'NTH': 2, 'NLK': 1, '75': 1, 'PKN': 1, 'HH': 1, 'TAM': 1, 'CA': 6, 'KHL': 1, 'VT': 1, 'ABE': 2, 'SL': 1, 'DE': 1, 'GLG': 1, 'STG': 1, 'ZET': 1, 'XGL': 2, 'WA': 3, 'FLN': 1, 'WHT': 1, 'NE': 1, 'FAL': 1, '3': 1, 'FL': 1}\n"
     ]
    }
   ],
   "source": [
    "# 01XXX  021XX~027XX  05501  05544\n",
    "import os\n",
    "import json\n",
    "# business\n",
    "f_out = open('business_sample.json', 'w')\n",
    "f_business_id = open('business.id', 'w')\n",
    "f = open('dataset' + os.sep + 'business.json')\n",
    "line = f.readline()\n",
    "count = 1\n",
    "state_set = {}\n",
    "while line:\n",
    "    #print count\n",
    "    bus_res = json.loads(line)\n",
    "    postal_code = bus_res['postal_code']\n",
    "    #if postal_code in ['05501', '05544'] or postal_code[:2] == '01' or postal_code[:3] in ['021','022','023','024','025','026','027']:\n",
    "    state_set[bus_res['state']] = state_set.get(bus_res['state'], 0) + 1\n",
    "    if bus_res['state'].upper() == 'NC':\n",
    "        f_out.write(line)\n",
    "        f_business_id.write(bus_res['business_id'] + '\\n')\n",
    "    line = f.readline()\n",
    "    count += 1\n",
    "    #if count == 101:\n",
    "    #    break\n",
    "print(state_set)\n",
    "f.close()\n",
    "f_out.close()\n",
    "f_business_id.close()"
   ]
  },
  {
   "cell_type": "code",
   "execution_count": 3,
   "metadata": {},
   "outputs": [
    {
     "name": "stdout",
     "output_type": "stream",
     "text": [
      "total review: 273207 error count: 57\n"
     ]
    }
   ],
   "source": [
    "# review sample by business id\n",
    "with open('business.id') as f:\n",
    "    all_ids = set([item.strip() for item in f.readlines() if item.strip() != ''])\n",
    "\n",
    "f_out = open('review_sample.json', 'w')\n",
    "f_user = open('user.id', 'w')\n",
    "f = open('dataset' + os.sep + 'review.json', encoding='gb18030', errors='ignore')\n",
    "line = f.readline()\n",
    "count = 0\n",
    "error_count = 0\n",
    "while line:\n",
    "    try:\n",
    "        res = json.loads(line)\n",
    "        if res['business_id'] in all_ids:\n",
    "            count += 1\n",
    "            f_out.write(line)\n",
    "            f_user.write(res['user_id'] + '\\n')\n",
    "    except:\n",
    "        error_count += 1\n",
    "    finally:\n",
    "        line = f.readline()\n",
    "\n",
    "print ('total review:', count, 'error count:', error_count)\n",
    "f.close()\n",
    "f_user.close()\n",
    "f_out.close()"
   ]
  },
  {
   "cell_type": "code",
   "execution_count": 4,
   "metadata": {},
   "outputs": [
    {
     "name": "stdout",
     "output_type": "stream",
     "text": [
      "total user: 79125 error count: 0\n"
     ]
    }
   ],
   "source": [
    "# user sample by user id\n",
    "with open('user.id') as f:\n",
    "    all_ids = set([item.strip() for item in f.readlines() if item.strip() != ''])\n",
    "\n",
    "f_out = open('user_sample.json', 'w')\n",
    "f = open('dataset' + os.sep + 'user.json',encoding='gb18030', errors='ignore')\n",
    "line = f.readline()\n",
    "count = 0\n",
    "error_count = 0\n",
    "while line:\n",
    "    try:\n",
    "        res = json.loads(line)\n",
    "        if res['user_id'] in all_ids:\n",
    "            count += 1\n",
    "            f_out.write(line)\n",
    "    except:\n",
    "        error_count += 1\n",
    "    finally:\n",
    "        line = f.readline()\n",
    "print ('total user:', count, 'error count:', error_count)\n",
    "f.close()\n",
    "f_out.close()"
   ]
  },
  {
   "cell_type": "code",
   "execution_count": 5,
   "metadata": {},
   "outputs": [
    {
     "name": "stdout",
     "output_type": "stream",
     "text": [
      "+-------+-------+\n",
      "| State | Count |\n",
      "+-------+-------+\n",
      "| AZ    | 47376 |\n",
      "| NV    | 30571 |\n",
      "| ON    | 26520 |\n",
      "| NC    | 11299 |\n",
      "| OH    | 10930 |\n",
      "| PA    |  8916 |\n",
      "| QC    |  7273 |\n",
      "| WI    |  4190 |\n",
      "| EDH   |  3561 |\n",
      "| BW    |  3071 |\n",
      "| IL    |  1667 |\n",
      "| SC    |   583 |\n",
      "| MLN   |   185 |\n",
      "| HLD   |   175 |\n",
      "| FIF   |    73 |\n",
      "+-------+-------+\n"
     ]
    }
   ],
   "source": [
    "# frequency states\n",
    "\n",
    "from collections import Counter\n",
    "from prettytable import PrettyTable\n",
    "count = Counter(state_set).most_common()\n",
    "\n",
    "# table of the top 15 words with their counts\n",
    "pretty_table = PrettyTable(field_names=['State', 'Count']) \n",
    "[ pretty_table.add_row(w) for w in count[:15] ]\n",
    "pretty_table.align['State'] = 'l'\n",
    "pretty_table.align['Count'] = 'r'\n",
    "print(pretty_table)"
   ]
  },
  {
   "cell_type": "markdown",
   "metadata": {},
   "source": [
    "# IDEA 1: TOP RESTAURANTS"
   ]
  },
  {
   "cell_type": "code",
   "execution_count": 6,
   "metadata": {},
   "outputs": [
    {
     "name": "stdout",
     "output_type": "stream",
     "text": [
      "['review_id', 'user_id', 'business_id', 'stars', 'date', 'text', 'useful', 'funny', 'cool']\n"
     ]
    }
   ],
   "source": [
    "#%%python3\n",
    "f = open('review_sample.json')\n",
    "f_out = open('review_sample.tbl', 'w')\n",
    "line = f.readline()\n",
    "keys = list(json.loads(line).keys())\n",
    "print (keys)\n",
    "\n",
    "keys.remove('funny')\n",
    "keys.remove('user_id')\n",
    "keys.remove('review_id')\n",
    "keys.remove('text')\n",
    "keys.remove('date')\n",
    "keys.remove('useful')\n",
    "keys.remove('cool')\n",
    "f_out.write('\\t'.join(keys) + '\\n')\n",
    "\n",
    "while line:\n",
    "    review_dict = json.loads(line)\n",
    "    out_list = []\n",
    "    for key in keys:\n",
    "        out_list.append(str(review_dict[key]))\n",
    "    f_out.write('\\t'.join(out_list) + '\\n')\n",
    "    line = f.readline()\n",
    "\n",
    "f.close()\n",
    "f_out.close()\n"
   ]
  },
  {
   "cell_type": "code",
   "execution_count": 8,
   "metadata": {},
   "outputs": [
    {
     "data": {
      "text/html": [
       "<div>\n",
       "<style>\n",
       "    .dataframe thead tr:only-child th {\n",
       "        text-align: right;\n",
       "    }\n",
       "\n",
       "    .dataframe thead th {\n",
       "        text-align: left;\n",
       "    }\n",
       "\n",
       "    .dataframe tbody tr th {\n",
       "        vertical-align: top;\n",
       "    }\n",
       "</style>\n",
       "<table border=\"1\" class=\"dataframe\">\n",
       "  <thead>\n",
       "    <tr style=\"text-align: right;\">\n",
       "      <th></th>\n",
       "      <th>business_id</th>\n",
       "      <th>positive</th>\n",
       "      <th>negative</th>\n",
       "    </tr>\n",
       "  </thead>\n",
       "  <tbody>\n",
       "    <tr>\n",
       "      <th>0</th>\n",
       "      <td>--7zmmkVg-IMGaXbuVd0SQ</td>\n",
       "      <td>30</td>\n",
       "      <td>12</td>\n",
       "    </tr>\n",
       "    <tr>\n",
       "      <th>1</th>\n",
       "      <td>--EX4rRznJrltyn-34Jz1w</td>\n",
       "      <td>2</td>\n",
       "      <td>1</td>\n",
       "    </tr>\n",
       "    <tr>\n",
       "      <th>2</th>\n",
       "      <td>--KCl2FvVQpvjzmZSPyviA</td>\n",
       "      <td>4</td>\n",
       "      <td>8</td>\n",
       "    </tr>\n",
       "    <tr>\n",
       "      <th>3</th>\n",
       "      <td>--U98MNlDym2cLn36BBPgQ</td>\n",
       "      <td>1</td>\n",
       "      <td>3</td>\n",
       "    </tr>\n",
       "    <tr>\n",
       "      <th>4</th>\n",
       "      <td>--cZ6Hhc9F7VkKXxHMVZSQ</td>\n",
       "      <td>217</td>\n",
       "      <td>83</td>\n",
       "    </tr>\n",
       "  </tbody>\n",
       "</table>\n",
       "</div>"
      ],
      "text/plain": [
       "              business_id  positive  negative\n",
       "0  --7zmmkVg-IMGaXbuVd0SQ        30        12\n",
       "1  --EX4rRznJrltyn-34Jz1w         2         1\n",
       "2  --KCl2FvVQpvjzmZSPyviA         4         8\n",
       "3  --U98MNlDym2cLn36BBPgQ         1         3\n",
       "4  --cZ6Hhc9F7VkKXxHMVZSQ       217        83"
      ]
     },
     "execution_count": 8,
     "metadata": {},
     "output_type": "execute_result"
    }
   ],
   "source": [
    "import numpy as np\n",
    "import pandas as pd\n",
    "\n",
    "df_review = pd.read_table('review_sample.tbl', sep='\\t')\n",
    "#df_review.head()\n",
    "\n",
    "df_review['positive'] = [1 if w in [4,5] else 0 for w in df_review.stars]\n",
    "df_review['negative'] = [1 if w in [1,2,3] else 0 for w in df_review.stars]\n",
    "del df_review['stars']\n",
    "\n",
    "df_stars = df_review.groupby(['business_id'],axis=0, as_index=False).aggregate(np.sum)\n",
    "\n",
    "df_stars.head()"
   ]
  },
  {
   "cell_type": "code",
   "execution_count": 9,
   "metadata": {},
   "outputs": [
    {
     "name": "stdout",
     "output_type": "stream",
     "text": [
      "['business_id', 'name', 'neighborhood', 'address', 'city', 'state', 'postal_code', 'latitude', 'longitude', 'stars', 'review_count', 'is_open', 'attributes', 'categories', 'hours']\n"
     ]
    }
   ],
   "source": [
    "f = open('business_sample.json')\n",
    "f_out = open('business_sample.tbl', 'w')\n",
    "line = f.readline()\n",
    "keys = list(json.loads(line).keys())\n",
    "print (keys)\n",
    "\n",
    "\n",
    "keys.remove('postal_code')\n",
    "keys.remove('neighborhood')\n",
    "keys.remove('address')\n",
    "keys.remove('state')\n",
    "keys.remove('latitude')\n",
    "keys.remove('longitude')\n",
    "keys.remove('is_open')\n",
    "keys.remove('attributes')\n",
    "keys.remove('hours')\n",
    "f_out.write('\\t'.join(keys) + '\\n')\n",
    "\n",
    "\n",
    "while line:\n",
    "    business_dict = json.loads(line)\n",
    "    out_list = []\n",
    "    for key in keys:\n",
    "        if key in [ 'categories']:\n",
    "            #print str(business_dict[key]), type(business_dict[key])\n",
    "            out_list.append(json.dumps(business_dict[key]))\n",
    "        elif key in ['name']:\n",
    "            #print key, business_dict[key]\n",
    "            out_list.append(str(business_dict[key].encode('utf-8')))\n",
    "        else:\n",
    "            out_list.append(str(business_dict[key]))\n",
    "    f_out.write('\\t'.join(out_list) + '\\n')\n",
    "    line = f.readline()\n",
    "\n",
    "f.close()\n",
    "f_out.close()\n",
    "\n",
    "df_business = pd.read_table('business_sample.tbl', sep='\\t')\n",
    "df_business.head()\n",
    "df_business['categories'] = [json.loads(item) for item in df_business['categories']]\n",
    "#print df_business['categories'][0], type(df_business['categories'][0])"
   ]
  },
  {
   "cell_type": "code",
   "execution_count": 11,
   "metadata": {},
   "outputs": [
    {
     "data": {
      "text/html": [
       "<div>\n",
       "<style>\n",
       "    .dataframe thead tr:only-child th {\n",
       "        text-align: right;\n",
       "    }\n",
       "\n",
       "    .dataframe thead th {\n",
       "        text-align: left;\n",
       "    }\n",
       "\n",
       "    .dataframe tbody tr th {\n",
       "        vertical-align: top;\n",
       "    }\n",
       "</style>\n",
       "<table border=\"1\" class=\"dataframe\">\n",
       "  <thead>\n",
       "    <tr style=\"text-align: right;\">\n",
       "      <th></th>\n",
       "      <th>business_id</th>\n",
       "      <th>positive</th>\n",
       "      <th>negative</th>\n",
       "      <th>name</th>\n",
       "      <th>city</th>\n",
       "      <th>stars</th>\n",
       "      <th>review_count</th>\n",
       "      <th>categories</th>\n",
       "      <th>positive_frac</th>\n",
       "      <th>negative_frac</th>\n",
       "    </tr>\n",
       "  </thead>\n",
       "  <tbody>\n",
       "    <tr>\n",
       "      <th>0</th>\n",
       "      <td>--7zmmkVg-IMGaXbuVd0SQ</td>\n",
       "      <td>30</td>\n",
       "      <td>12</td>\n",
       "      <td>b'Primal Brewery'</td>\n",
       "      <td>Huntersville</td>\n",
       "      <td>4.0</td>\n",
       "      <td>42</td>\n",
       "      <td>[Breweries, Food]</td>\n",
       "      <td>0.714286</td>\n",
       "      <td>0.285714</td>\n",
       "    </tr>\n",
       "    <tr>\n",
       "      <th>1</th>\n",
       "      <td>--EX4rRznJrltyn-34Jz1w</td>\n",
       "      <td>2</td>\n",
       "      <td>1</td>\n",
       "      <td>b'Bath &amp; Body Works'</td>\n",
       "      <td>Charlotte</td>\n",
       "      <td>4.0</td>\n",
       "      <td>3</td>\n",
       "      <td>[Cosmetics &amp; Beauty Supply, Beauty &amp; Spas, Sho...</td>\n",
       "      <td>0.666667</td>\n",
       "      <td>0.333333</td>\n",
       "    </tr>\n",
       "    <tr>\n",
       "      <th>2</th>\n",
       "      <td>--KCl2FvVQpvjzmZSPyviA</td>\n",
       "      <td>4</td>\n",
       "      <td>8</td>\n",
       "      <td>b\"Hungry Howie's Pizza\"</td>\n",
       "      <td>Charlotte</td>\n",
       "      <td>3.0</td>\n",
       "      <td>12</td>\n",
       "      <td>[Sandwiches, Pizza, Restaurants]</td>\n",
       "      <td>0.333333</td>\n",
       "      <td>0.666667</td>\n",
       "    </tr>\n",
       "    <tr>\n",
       "      <th>3</th>\n",
       "      <td>--U98MNlDym2cLn36BBPgQ</td>\n",
       "      <td>1</td>\n",
       "      <td>3</td>\n",
       "      <td>b'Pronto Pizza'</td>\n",
       "      <td>Indian Trail</td>\n",
       "      <td>3.0</td>\n",
       "      <td>4</td>\n",
       "      <td>[Restaurants, Pizza]</td>\n",
       "      <td>0.250000</td>\n",
       "      <td>0.750000</td>\n",
       "    </tr>\n",
       "    <tr>\n",
       "      <th>4</th>\n",
       "      <td>--cZ6Hhc9F7VkKXxHMVZSQ</td>\n",
       "      <td>217</td>\n",
       "      <td>83</td>\n",
       "      <td>b'Pio Pio'</td>\n",
       "      <td>Charlotte</td>\n",
       "      <td>4.0</td>\n",
       "      <td>299</td>\n",
       "      <td>[Restaurants, Peruvian, Spanish, Latin American]</td>\n",
       "      <td>0.725753</td>\n",
       "      <td>0.277592</td>\n",
       "    </tr>\n",
       "  </tbody>\n",
       "</table>\n",
       "</div>"
      ],
      "text/plain": [
       "              business_id  positive  negative                     name  \\\n",
       "0  --7zmmkVg-IMGaXbuVd0SQ        30        12        b'Primal Brewery'   \n",
       "1  --EX4rRznJrltyn-34Jz1w         2         1     b'Bath & Body Works'   \n",
       "2  --KCl2FvVQpvjzmZSPyviA         4         8  b\"Hungry Howie's Pizza\"   \n",
       "3  --U98MNlDym2cLn36BBPgQ         1         3          b'Pronto Pizza'   \n",
       "4  --cZ6Hhc9F7VkKXxHMVZSQ       217        83               b'Pio Pio'   \n",
       "\n",
       "           city  stars  review_count  \\\n",
       "0  Huntersville    4.0            42   \n",
       "1     Charlotte    4.0             3   \n",
       "2     Charlotte    3.0            12   \n",
       "3  Indian Trail    3.0             4   \n",
       "4     Charlotte    4.0           299   \n",
       "\n",
       "                                          categories  positive_frac  \\\n",
       "0                                  [Breweries, Food]       0.714286   \n",
       "1  [Cosmetics & Beauty Supply, Beauty & Spas, Sho...       0.666667   \n",
       "2                   [Sandwiches, Pizza, Restaurants]       0.333333   \n",
       "3                               [Restaurants, Pizza]       0.250000   \n",
       "4   [Restaurants, Peruvian, Spanish, Latin American]       0.725753   \n",
       "\n",
       "   negative_frac  \n",
       "0       0.285714  \n",
       "1       0.333333  \n",
       "2       0.666667  \n",
       "3       0.750000  \n",
       "4       0.277592  "
      ]
     },
     "execution_count": 11,
     "metadata": {},
     "output_type": "execute_result"
    }
   ],
   "source": [
    "df = df_stars.merge(df_business,how = 'inner', on = 'business_id')\n",
    "\n",
    "for key in [u'positive', u'negative']:\n",
    "    df[key + '_frac'] = [0 if item[1] == 0 else 1.0 * item[0] / item[1] for item in zip(df[key], df['review_count'])]\n",
    "\n",
    "df.head()"
   ]
  },
  {
   "cell_type": "code",
   "execution_count": 12,
   "metadata": {
    "collapsed": true
   },
   "outputs": [],
   "source": [
    "from sklearn.cluster import KMeans\n",
    "from sklearn import preprocessing\n",
    "\n",
    "\n",
    "all_columns = list(df.columns)\n",
    "y = np.array(df['name'])\n",
    "all_columns.remove('name')\n",
    "all_columns.remove('business_id')\n",
    "all_columns.remove('city')\n",
    "all_columns.remove('categories')\n",
    "\n",
    "x = np.array(df.loc[:, all_columns])\n",
    "#x_normalized = preprocessing.normalize(x, norm='l2')\n",
    "x_min_1, x_max_1 = np.min(x, 0), np.max(x, 0)\n",
    "x_maxmin = (x - x_min_1) / (x_max_1 - x_min_1)\n"
   ]
  },
  {
   "cell_type": "code",
   "execution_count": 13,
   "metadata": {},
   "outputs": [
    {
     "data": {
      "image/png": "[encoded data removed]",
      "text/plain": [
       "<matplotlib.figure.Figure at 0x14b2072d320>"
      ]
     },
     "metadata": {},
     "output_type": "display_data"
    }
   ],
   "source": [
    "x_1 = []\n",
    "y_1 = []\n",
    "for i in range(15):\n",
    "    kmeans = KMeans(n_clusters=i+1)\n",
    "    kmeans.fit(x_maxmin, y)\n",
    "    x_1.append(i+1)\n",
    "    y_1.append(kmeans.inertia_)\n",
    "    \n",
    "import matplotlib.pyplot as plt\n",
    "plt.figure(figsize=[9,5])\n",
    "plt.xlabel('k')\n",
    "plt.ylabel('SSE')\n",
    "plt.plot(x_1,y_1)\n",
    "plt.show()"
   ]
  },
  {
   "cell_type": "code",
   "execution_count": 14,
   "metadata": {},
   "outputs": [
    {
     "name": "stdout",
     "output_type": "stream",
     "text": [
      "For n_clusters = 2 The average silhouette_score is : 0.553510695801\n",
      "For n_clusters = 3 The average silhouette_score is : 0.492826028819\n",
      "For n_clusters = 4 The average silhouette_score is : 0.496303830826\n",
      "For n_clusters = 5 The average silhouette_score is : 0.470665974607\n",
      "For n_clusters = 6 The average silhouette_score is : 0.456386990958\n",
      "For n_clusters = 7 The average silhouette_score is : 0.463987296592\n",
      "For n_clusters = 8 The average silhouette_score is : 0.476575296366\n",
      "For n_clusters = 9 The average silhouette_score is : 0.450582757215\n",
      "For n_clusters = 10 The average silhouette_score is : 0.47580087083\n"
     ]
    }
   ],
   "source": [
    "from sklearn.datasets import make_blobs\n",
    "from sklearn.cluster import KMeans\n",
    "from sklearn.metrics import silhouette_samples, silhouette_score\n",
    "\n",
    "import matplotlib.pyplot as plt\n",
    "import matplotlib.cm as cm\n",
    "import numpy as np\n",
    "range_n_clusters =  [2, 3, 4, 5, 6, 7, 8, 9, 10 ]\n",
    "x_2 = []\n",
    "y_2 = []\n",
    "for n_clusters in range_n_clusters:\n",
    "    # Create a subplot with 1 row and 2 columns\n",
    "    #fig, (ax1, ax2) = plt.subplots(1, 2)\n",
    "    #fig.set_size_inches(18, 7)\n",
    "\n",
    "    # The 1st subplot is the silhouette plot\n",
    "    # The silhouette coefficient can range from -1, 1 but in this example all\n",
    "    # lie within [-0.1, 1]\n",
    "    #ax1.set_xlim([-0.1, 1])\n",
    "    # The (n_clusters+1)*10 is for inserting blank space between silhouette\n",
    "    # plots of individual clusters, to demarcate them clearly.\n",
    "    #ax1.set_ylim([0, len(X) + (n_clusters + 1) * 10])\n",
    "\n",
    "    # Initialize the clusterer with n_clusters value and a random generator\n",
    "    # seed of 10 for reproducibility.\n",
    "    clusterer = KMeans(n_clusters=n_clusters)\n",
    "    cluster_labels = clusterer.fit_predict(x_maxmin)\n",
    "\n",
    "    # The silhouette_score gives the average value for all the samples.\n",
    "    # This gives a perspective into the density and separation of the formed\n",
    "    # clusters\n",
    "    silhouette_avg = silhouette_score(x_maxmin, cluster_labels)\n",
    "    x_2.append(n_clusters)\n",
    "    y_2.append(silhouette_avg)\n",
    "    \n",
    "    print(\"For n_clusters =\", n_clusters,\n",
    "          \"The average silhouette_score is :\", silhouette_avg)"
   ]
  },
  {
   "cell_type": "code",
   "execution_count": 15,
   "metadata": {},
   "outputs": [
    {
     "data": {
      "image/png": "[encoded data removed]",
      "text/plain": [
       "<matplotlib.figure.Figure at 0x14b20679c18>"
      ]
     },
     "metadata": {},
     "output_type": "display_data"
    }
   ],
   "source": [
    "plt.figure(figsize=[9,5])\n",
    "plt.xlabel('k')\n",
    "plt.ylabel('average silhouette_score')\n",
    "plt.plot(x_2,y_2)\n",
    "plt.show()"
   ]
  },
  {
   "cell_type": "code",
   "execution_count": 16,
   "metadata": {},
   "outputs": [
    {
     "name": "stdout",
     "output_type": "stream",
     "text": [
      "Counter({0: 10089, 3: 992, 1: 208, 2: 10})\n"
     ]
    }
   ],
   "source": [
    "from sklearn.cluster import KMeans\n",
    "from collections import Counter\n",
    "\n",
    "kmeans = KMeans(n_clusters=4)\n",
    "kmeans.fit(x, y)\n",
    "#kmeans.labels_.head()\n",
    "#tmp_df = pd.DataFrame({'label': df['name'], 'predict': df.labels_})\n",
    "#tmp_df.head(20)\n",
    "\n",
    "dict_cluster = {}\n",
    "for label, predict_label in zip(df['name'],kmeans.labels_):\n",
    "    if predict_label not in dict_cluster:\n",
    "        dict_cluster[predict_label] = [label]\n",
    "    else:\n",
    "        dict_cluster[predict_label].append(label)\n",
    "\n",
    "print (Counter(kmeans.labels_))\n",
    "#for key in dict_cluster:\n",
    "#    print key, dict_cluster[key]"
   ]
  },
  {
   "cell_type": "code",
   "execution_count": 17,
   "metadata": {
    "scrolled": true
   },
   "outputs": [
    {
     "data": {
      "text/html": [
       "<div>\n",
       "<style>\n",
       "    .dataframe thead tr:only-child th {\n",
       "        text-align: right;\n",
       "    }\n",
       "\n",
       "    .dataframe thead th {\n",
       "        text-align: left;\n",
       "    }\n",
       "\n",
       "    .dataframe tbody tr th {\n",
       "        vertical-align: top;\n",
       "    }\n",
       "</style>\n",
       "<table border=\"1\" class=\"dataframe\">\n",
       "  <thead>\n",
       "    <tr style=\"text-align: right;\">\n",
       "      <th></th>\n",
       "      <th>business_id</th>\n",
       "      <th>positive</th>\n",
       "      <th>negative</th>\n",
       "      <th>name</th>\n",
       "      <th>city</th>\n",
       "      <th>stars</th>\n",
       "      <th>review_count</th>\n",
       "      <th>categories</th>\n",
       "      <th>positive_frac</th>\n",
       "      <th>negative_frac</th>\n",
       "    </tr>\n",
       "  </thead>\n",
       "  <tbody>\n",
       "    <tr>\n",
       "      <th>191</th>\n",
       "      <td>01fuY2NNscttoTxOYbuZXw</td>\n",
       "      <td>586</td>\n",
       "      <td>129</td>\n",
       "      <td>b\"Pinky's Westside Grill\"</td>\n",
       "      <td>Charlotte</td>\n",
       "      <td>4.0</td>\n",
       "      <td>715</td>\n",
       "      <td>[Diners, Burgers, Vegetarian, American (Tradit...</td>\n",
       "      <td>0.819580</td>\n",
       "      <td>0.180420</td>\n",
       "    </tr>\n",
       "    <tr>\n",
       "      <th>4336</th>\n",
       "      <td>NFm869_w6cvVaWaNpAzjeA</td>\n",
       "      <td>617</td>\n",
       "      <td>147</td>\n",
       "      <td>b'Soul Gastrolounge'</td>\n",
       "      <td>Charlotte</td>\n",
       "      <td>4.0</td>\n",
       "      <td>764</td>\n",
       "      <td>[Nightlife, Tapas Bars, Lounges, Restaurants, ...</td>\n",
       "      <td>0.807592</td>\n",
       "      <td>0.192408</td>\n",
       "    </tr>\n",
       "    <tr>\n",
       "      <th>4996</th>\n",
       "      <td>RAh9WCQAuocM7hYM5_6tnw</td>\n",
       "      <td>1029</td>\n",
       "      <td>215</td>\n",
       "      <td>b'The Cowfish Sushi Burger Bar'</td>\n",
       "      <td>Charlotte</td>\n",
       "      <td>4.0</td>\n",
       "      <td>1244</td>\n",
       "      <td>[Asian Fusion, Restaurants, Sushi Bars, Burgers]</td>\n",
       "      <td>0.827170</td>\n",
       "      <td>0.172830</td>\n",
       "    </tr>\n",
       "    <tr>\n",
       "      <th>5054</th>\n",
       "      <td>RVQE2Z2uky4c0-njFQO66g</td>\n",
       "      <td>931</td>\n",
       "      <td>164</td>\n",
       "      <td>b'Midwood Smokehouse'</td>\n",
       "      <td>Charlotte</td>\n",
       "      <td>4.5</td>\n",
       "      <td>1095</td>\n",
       "      <td>[Food, Restaurants, Smokehouse, Barbeque, Pizza]</td>\n",
       "      <td>0.850228</td>\n",
       "      <td>0.149772</td>\n",
       "    </tr>\n",
       "    <tr>\n",
       "      <th>5298</th>\n",
       "      <td>T2tEMLpTeSMxLKpxwFdS3g</td>\n",
       "      <td>619</td>\n",
       "      <td>278</td>\n",
       "      <td>b'Cabo Fish Taco'</td>\n",
       "      <td>Charlotte</td>\n",
       "      <td>4.0</td>\n",
       "      <td>897</td>\n",
       "      <td>[Latin American, Mexican, Seafood, Restaurants]</td>\n",
       "      <td>0.690078</td>\n",
       "      <td>0.309922</td>\n",
       "    </tr>\n",
       "    <tr>\n",
       "      <th>5929</th>\n",
       "      <td>WbJ1LRQdOuYYlRLyTkuuxw</td>\n",
       "      <td>636</td>\n",
       "      <td>296</td>\n",
       "      <td>b'Tupelo Honey'</td>\n",
       "      <td>Charlotte</td>\n",
       "      <td>4.0</td>\n",
       "      <td>930</td>\n",
       "      <td>[Breakfast &amp; Brunch, Southern, Restaurants, Am...</td>\n",
       "      <td>0.683871</td>\n",
       "      <td>0.318280</td>\n",
       "    </tr>\n",
       "    <tr>\n",
       "      <th>6774</th>\n",
       "      <td>aO1gAp41n8w8zpxTiHdLNA</td>\n",
       "      <td>473</td>\n",
       "      <td>266</td>\n",
       "      <td>b\"Mert's Heart &amp; Soul\"</td>\n",
       "      <td>Charlotte</td>\n",
       "      <td>3.5</td>\n",
       "      <td>739</td>\n",
       "      <td>[Soul Food, Restaurants, Breakfast &amp; Brunch, S...</td>\n",
       "      <td>0.640054</td>\n",
       "      <td>0.359946</td>\n",
       "    </tr>\n",
       "    <tr>\n",
       "      <th>7779</th>\n",
       "      <td>gG9z6zr_49LocyCTvSFg0w</td>\n",
       "      <td>979</td>\n",
       "      <td>274</td>\n",
       "      <td>b\"Am\\xc3\\xa9lie's French Bakery\"</td>\n",
       "      <td>Charlotte</td>\n",
       "      <td>4.0</td>\n",
       "      <td>1254</td>\n",
       "      <td>[Food, Coffee &amp; Tea, Bakeries, Restaurants, Br...</td>\n",
       "      <td>0.780702</td>\n",
       "      <td>0.218501</td>\n",
       "    </tr>\n",
       "    <tr>\n",
       "      <th>9935</th>\n",
       "      <td>sdYkVaTy7EJwUkO8Ie_qPg</td>\n",
       "      <td>643</td>\n",
       "      <td>59</td>\n",
       "      <td>b'Viva Chicken'</td>\n",
       "      <td>Charlotte</td>\n",
       "      <td>4.5</td>\n",
       "      <td>701</td>\n",
       "      <td>[Restaurants, Peruvian]</td>\n",
       "      <td>0.917261</td>\n",
       "      <td>0.084165</td>\n",
       "    </tr>\n",
       "    <tr>\n",
       "      <th>11001</th>\n",
       "      <td>yQab5dxZzgBLTEHCw9V7_w</td>\n",
       "      <td>833</td>\n",
       "      <td>672</td>\n",
       "      <td>b'Charlotte Douglas International Airport'</td>\n",
       "      <td>Charlotte</td>\n",
       "      <td>3.5</td>\n",
       "      <td>1508</td>\n",
       "      <td>[Airports, Hotels &amp; Travel]</td>\n",
       "      <td>0.552387</td>\n",
       "      <td>0.445623</td>\n",
       "    </tr>\n",
       "  </tbody>\n",
       "</table>\n",
       "</div>"
      ],
      "text/plain": [
       "                  business_id  positive  negative  \\\n",
       "191    01fuY2NNscttoTxOYbuZXw       586       129   \n",
       "4336   NFm869_w6cvVaWaNpAzjeA       617       147   \n",
       "4996   RAh9WCQAuocM7hYM5_6tnw      1029       215   \n",
       "5054   RVQE2Z2uky4c0-njFQO66g       931       164   \n",
       "5298   T2tEMLpTeSMxLKpxwFdS3g       619       278   \n",
       "5929   WbJ1LRQdOuYYlRLyTkuuxw       636       296   \n",
       "6774   aO1gAp41n8w8zpxTiHdLNA       473       266   \n",
       "7779   gG9z6zr_49LocyCTvSFg0w       979       274   \n",
       "9935   sdYkVaTy7EJwUkO8Ie_qPg       643        59   \n",
       "11001  yQab5dxZzgBLTEHCw9V7_w       833       672   \n",
       "\n",
       "                                             name       city  stars  \\\n",
       "191                     b\"Pinky's Westside Grill\"  Charlotte    4.0   \n",
       "4336                         b'Soul Gastrolounge'  Charlotte    4.0   \n",
       "4996              b'The Cowfish Sushi Burger Bar'  Charlotte    4.0   \n",
       "5054                        b'Midwood Smokehouse'  Charlotte    4.5   \n",
       "5298                            b'Cabo Fish Taco'  Charlotte    4.0   \n",
       "5929                              b'Tupelo Honey'  Charlotte    4.0   \n",
       "6774                       b\"Mert's Heart & Soul\"  Charlotte    3.5   \n",
       "7779             b\"Am\\xc3\\xa9lie's French Bakery\"  Charlotte    4.0   \n",
       "9935                              b'Viva Chicken'  Charlotte    4.5   \n",
       "11001  b'Charlotte Douglas International Airport'  Charlotte    3.5   \n",
       "\n",
       "       review_count                                         categories  \\\n",
       "191             715  [Diners, Burgers, Vegetarian, American (Tradit...   \n",
       "4336            764  [Nightlife, Tapas Bars, Lounges, Restaurants, ...   \n",
       "4996           1244   [Asian Fusion, Restaurants, Sushi Bars, Burgers]   \n",
       "5054           1095   [Food, Restaurants, Smokehouse, Barbeque, Pizza]   \n",
       "5298            897    [Latin American, Mexican, Seafood, Restaurants]   \n",
       "5929            930  [Breakfast & Brunch, Southern, Restaurants, Am...   \n",
       "6774            739  [Soul Food, Restaurants, Breakfast & Brunch, S...   \n",
       "7779           1254  [Food, Coffee & Tea, Bakeries, Restaurants, Br...   \n",
       "9935            701                            [Restaurants, Peruvian]   \n",
       "11001          1508                        [Airports, Hotels & Travel]   \n",
       "\n",
       "       positive_frac  negative_frac  \n",
       "191         0.819580       0.180420  \n",
       "4336        0.807592       0.192408  \n",
       "4996        0.827170       0.172830  \n",
       "5054        0.850228       0.149772  \n",
       "5298        0.690078       0.309922  \n",
       "5929        0.683871       0.318280  \n",
       "6774        0.640054       0.359946  \n",
       "7779        0.780702       0.218501  \n",
       "9935        0.917261       0.084165  \n",
       "11001       0.552387       0.445623  "
      ]
     },
     "execution_count": 17,
     "metadata": {},
     "output_type": "execute_result"
    }
   ],
   "source": [
    "# 208\n",
    "top_index = [True if item == 1 else False for item in kmeans.labels_]\n",
    "top_info=df[top_index]\n",
    "top_info.to_csv('top_business_208.data', sep='\\t', index=None)\n",
    "\n",
    "# 10\n",
    "top_index = [True if item == 2 else False for item in kmeans.labels_]\n",
    "top_info=df[top_index]\n",
    "top_info.to_csv('top_business_10.data', sep='\\t', index=None)\n",
    "top_info.head(10)"
   ]
  },
  {
   "cell_type": "markdown",
   "metadata": {},
   "source": [
    "# IDEA 2: USER RECOMMENDATION"
   ]
  },
  {
   "cell_type": "code",
   "execution_count": 20,
   "metadata": {},
   "outputs": [
    {
     "name": "stdout",
     "output_type": "stream",
     "text": [
      "['user_id', 'name', 'review_count', 'yelping_since', 'friends', 'useful', 'funny', 'cool', 'fans', 'elite', 'average_stars', 'compliment_hot', 'compliment_more', 'compliment_profile', 'compliment_cute', 'compliment_list', 'compliment_note', 'compliment_plain', 'compliment_cool', 'compliment_funny', 'compliment_writer', 'compliment_photos']\n"
     ]
    }
   ],
   "source": [
    "import json\n",
    "import numpy as np\n",
    "import pandas as pd\n",
    "\n",
    "# reassign an id to each user to reduce computation memory\n",
    "with open('user.id') as f:\n",
    "    lines = f.readlines()\n",
    "user_no_dict = {}\n",
    "count = 1\n",
    "for line in lines:\n",
    "    user_no_dict[line.strip()] = count\n",
    "    count += 1\n",
    "\n",
    "f = open('user_sample.json')\n",
    "f_out = open('user_sample.tbl', 'w')\n",
    "line = f.readline()\n",
    "keys = list(json.loads(line).keys())\n",
    "print (keys)\n",
    "\n",
    "keys.remove('friends')\n",
    "keys.remove('yelping_since')\n",
    "keys.remove('name')\n",
    "keys.remove('elite')\n",
    "f_out.write('\\t'.join(keys) + '\\tfriends\\n')\n",
    "\n",
    "while line:\n",
    "    user_dict = json.loads(line)\n",
    "    out_list = []\n",
    "    for key in keys:\n",
    "        if key == 'user_id':\n",
    "            out_list.append(str(user_no_dict[user_dict['user_id']]))\n",
    "        else:\n",
    "            out_list.append(str(user_dict[key]))\n",
    "    out_list.append(str(len(user_dict['friends'])))\n",
    "    f_out.write('\\t'.join(out_list) + '\\n')\n",
    "    line = f.readline()\n",
    "\n",
    "f.close()\n",
    "f_out.close()\n"
   ]
  },
  {
   "cell_type": "code",
   "execution_count": 21,
   "metadata": {},
   "outputs": [
    {
     "data": {
      "text/html": [
       "<div>\n",
       "<style>\n",
       "    .dataframe thead tr:only-child th {\n",
       "        text-align: right;\n",
       "    }\n",
       "\n",
       "    .dataframe thead th {\n",
       "        text-align: left;\n",
       "    }\n",
       "\n",
       "    .dataframe tbody tr th {\n",
       "        vertical-align: top;\n",
       "    }\n",
       "</style>\n",
       "<table border=\"1\" class=\"dataframe\">\n",
       "  <thead>\n",
       "    <tr style=\"text-align: right;\">\n",
       "      <th></th>\n",
       "      <th>user_id</th>\n",
       "      <th>review_count</th>\n",
       "      <th>useful</th>\n",
       "      <th>funny</th>\n",
       "      <th>cool</th>\n",
       "      <th>fans</th>\n",
       "      <th>average_stars</th>\n",
       "      <th>compliment_hot</th>\n",
       "      <th>compliment_more</th>\n",
       "      <th>compliment_profile</th>\n",
       "      <th>compliment_cute</th>\n",
       "      <th>compliment_list</th>\n",
       "      <th>compliment_note</th>\n",
       "      <th>compliment_plain</th>\n",
       "      <th>compliment_cool</th>\n",
       "      <th>compliment_funny</th>\n",
       "      <th>compliment_writer</th>\n",
       "      <th>compliment_photos</th>\n",
       "      <th>friends</th>\n",
       "    </tr>\n",
       "  </thead>\n",
       "  <tbody>\n",
       "    <tr>\n",
       "      <th>0</th>\n",
       "      <td>199109</td>\n",
       "      <td>436</td>\n",
       "      <td>15</td>\n",
       "      <td>4</td>\n",
       "      <td>4</td>\n",
       "      <td>11</td>\n",
       "      <td>3.76</td>\n",
       "      <td>1</td>\n",
       "      <td>1</td>\n",
       "      <td>0</td>\n",
       "      <td>0</td>\n",
       "      <td>0</td>\n",
       "      <td>4</td>\n",
       "      <td>11</td>\n",
       "      <td>9</td>\n",
       "      <td>9</td>\n",
       "      <td>3</td>\n",
       "      <td>1</td>\n",
       "      <td>272</td>\n",
       "    </tr>\n",
       "    <tr>\n",
       "      <th>1</th>\n",
       "      <td>88194</td>\n",
       "      <td>1409</td>\n",
       "      <td>69</td>\n",
       "      <td>32</td>\n",
       "      <td>37</td>\n",
       "      <td>253</td>\n",
       "      <td>3.97</td>\n",
       "      <td>201</td>\n",
       "      <td>14</td>\n",
       "      <td>19</td>\n",
       "      <td>38</td>\n",
       "      <td>5</td>\n",
       "      <td>53</td>\n",
       "      <td>128</td>\n",
       "      <td>210</td>\n",
       "      <td>210</td>\n",
       "      <td>126</td>\n",
       "      <td>24</td>\n",
       "      <td>315</td>\n",
       "    </tr>\n",
       "    <tr>\n",
       "      <th>2</th>\n",
       "      <td>118059</td>\n",
       "      <td>134</td>\n",
       "      <td>258</td>\n",
       "      <td>199</td>\n",
       "      <td>204</td>\n",
       "      <td>13</td>\n",
       "      <td>4.14</td>\n",
       "      <td>2</td>\n",
       "      <td>0</td>\n",
       "      <td>0</td>\n",
       "      <td>0</td>\n",
       "      <td>0</td>\n",
       "      <td>7</td>\n",
       "      <td>7</td>\n",
       "      <td>5</td>\n",
       "      <td>5</td>\n",
       "      <td>1</td>\n",
       "      <td>0</td>\n",
       "      <td>148</td>\n",
       "    </tr>\n",
       "    <tr>\n",
       "      <th>3</th>\n",
       "      <td>272107</td>\n",
       "      <td>111</td>\n",
       "      <td>16</td>\n",
       "      <td>0</td>\n",
       "      <td>0</td>\n",
       "      <td>1</td>\n",
       "      <td>3.98</td>\n",
       "      <td>0</td>\n",
       "      <td>3</td>\n",
       "      <td>1</td>\n",
       "      <td>0</td>\n",
       "      <td>0</td>\n",
       "      <td>2</td>\n",
       "      <td>2</td>\n",
       "      <td>2</td>\n",
       "      <td>2</td>\n",
       "      <td>3</td>\n",
       "      <td>2</td>\n",
       "      <td>95</td>\n",
       "    </tr>\n",
       "    <tr>\n",
       "      <th>4</th>\n",
       "      <td>265943</td>\n",
       "      <td>754</td>\n",
       "      <td>151</td>\n",
       "      <td>105</td>\n",
       "      <td>125</td>\n",
       "      <td>68</td>\n",
       "      <td>3.74</td>\n",
       "      <td>77</td>\n",
       "      <td>12</td>\n",
       "      <td>6</td>\n",
       "      <td>2</td>\n",
       "      <td>6</td>\n",
       "      <td>56</td>\n",
       "      <td>134</td>\n",
       "      <td>129</td>\n",
       "      <td>129</td>\n",
       "      <td>95</td>\n",
       "      <td>29</td>\n",
       "      <td>536</td>\n",
       "    </tr>\n",
       "  </tbody>\n",
       "</table>\n",
       "</div>"
      ],
      "text/plain": [
       "   user_id  review_count  useful  funny  cool  fans  average_stars  \\\n",
       "0   199109           436      15      4     4    11           3.76   \n",
       "1    88194          1409      69     32    37   253           3.97   \n",
       "2   118059           134     258    199   204    13           4.14   \n",
       "3   272107           111      16      0     0     1           3.98   \n",
       "4   265943           754     151    105   125    68           3.74   \n",
       "\n",
       "   compliment_hot  compliment_more  compliment_profile  compliment_cute  \\\n",
       "0               1                1                   0                0   \n",
       "1             201               14                  19               38   \n",
       "2               2                0                   0                0   \n",
       "3               0                3                   1                0   \n",
       "4              77               12                   6                2   \n",
       "\n",
       "   compliment_list  compliment_note  compliment_plain  compliment_cool  \\\n",
       "0                0                4                11                9   \n",
       "1                5               53               128              210   \n",
       "2                0                7                 7                5   \n",
       "3                0                2                 2                2   \n",
       "4                6               56               134              129   \n",
       "\n",
       "   compliment_funny  compliment_writer  compliment_photos  friends  \n",
       "0                 9                  3                  1      272  \n",
       "1               210                126                 24      315  \n",
       "2                 5                  1                  0      148  \n",
       "3                 2                  3                  2       95  \n",
       "4               129                 95                 29      536  "
      ]
     },
     "execution_count": 21,
     "metadata": {},
     "output_type": "execute_result"
    }
   ],
   "source": [
    "# read data\n",
    "import json\n",
    "import numpy as np\n",
    "import pandas as pd\n",
    "df_user = pd.read_table('user_sample.tbl', sep='\\t')\n",
    "df_user.head(5)\n"
   ]
  },
  {
   "cell_type": "code",
   "execution_count": 22,
   "metadata": {},
   "outputs": [
    {
     "name": "stdout",
     "output_type": "stream",
     "text": [
      "(79125, 30)\n"
     ]
    }
   ],
   "source": [
    "for key in [ u'compliment_photos', u'compliment_list', u'compliment_funny', u'compliment_note', u'compliment_plain', u'compliment_writer',\n",
    "            u'compliment_cute', u'compliment_more', u'compliment_hot', u'compliment_profile', u'compliment_cool']:\n",
    "    df_user[key + '_weight'] = [0 if item[1] == 0 else 1.0 * item[0] / item[1] for item in zip(df_user[key], df_user['review_count'])]\n",
    "print (df_user.shape)"
   ]
  },
  {
   "cell_type": "code",
   "execution_count": 24,
   "metadata": {},
   "outputs": [
    {
     "name": "stdout",
     "output_type": "stream",
     "text": [
      "[  8.47308037e-01   2.91505059e-02   7.77346823e-03   7.77346823e-03\n",
      "   2.13770376e-02   7.30706014e-03   1.94336706e-03   1.94336706e-03\n",
      "   0.00000000e+00   0.00000000e+00   0.00000000e+00   7.77346823e-03\n",
      "   2.13770376e-02   1.74903035e-02   1.74903035e-02   5.83010117e-03\n",
      "   1.94336706e-03   5.28595840e-01   4.45726389e-06   0.00000000e+00\n",
      "   4.01153750e-05   1.78290556e-05   4.90299028e-05   1.33717917e-05\n",
      "   0.00000000e+00   4.45726389e-06   4.45726389e-06   0.00000000e+00\n",
      "   4.01153750e-05]\n"
     ]
    }
   ],
   "source": [
    "from sklearn.preprocessing import Normalizer\n",
    "norm = Normalizer(copy=False)  # default:L2 norm\n",
    "user_id_list = list(df_user['user_id'])\n",
    "del df_user['user_id']\n",
    "X_origin = np.array(df_user)\n",
    "X = norm.fit_transform(X_origin)\n",
    "print (X[0])"
   ]
  },
  {
   "cell_type": "code",
   "execution_count": 25,
   "metadata": {},
   "outputs": [
    {
     "name": "stdout",
     "output_type": "stream",
     "text": [
      "Counter({12: 5655, 17: 4198, 4: 3410, 78: 2798, 0: 2726, 24: 2587, 47: 2571, 14: 2538, 31: 2429, 71: 2349, 21: 2232, 74: 1812, 79: 1675, 45: 1639, 9: 1413, 68: 1325, 84: 1279, 60: 1189, 99: 1166, 13: 1096, 53: 989, 40: 983, 98: 961, 6: 948, 28: 907, 37: 904, 55: 890, 16: 888, 49: 798, 88: 789, 5: 721, 25: 705, 18: 703, 38: 671, 33: 661, 80: 646, 42: 634, 73: 633, 86: 631, 1: 616, 23: 574, 59: 572, 52: 569, 10: 565, 92: 552, 27: 547, 35: 528, 8: 515, 77: 512, 20: 509, 93: 491, 82: 487, 44: 483, 97: 457, 85: 432, 29: 423, 70: 407, 56: 399, 3: 359, 67: 338, 83: 314, 30: 303, 66: 300, 32: 291, 41: 290, 26: 288, 7: 286, 76: 280, 91: 267, 39: 259, 46: 253, 22: 253, 65: 252, 36: 250, 96: 249, 61: 248, 51: 248, 72: 229, 87: 224, 90: 223, 11: 213, 64: 202, 89: 188, 19: 159, 62: 153, 2: 153, 95: 133, 15: 129, 94: 116, 43: 110, 50: 104, 75: 103, 57: 101, 34: 99, 54: 87, 81: 82, 58: 69, 69: 54, 63: 49, 48: 30})\n",
      "total cost: 117.053467\n"
     ]
    }
   ],
   "source": [
    "from datetime import datetime\n",
    "from collections import Counter\n",
    "from sklearn.cluster import KMeans\n",
    "\n",
    "start = datetime.now()\n",
    "cluster = KMeans(n_clusters=100, n_jobs=2)\n",
    "cluster.fit_transform(X)\n",
    "print (Counter(cluster.labels_))\n",
    "print ('total cost:', (datetime.now() - start).total_seconds())"
   ]
  },
  {
   "cell_type": "code",
   "execution_count": 27,
   "metadata": {
    "scrolled": true
   },
   "outputs": [
    {
     "name": "stdout",
     "output_type": "stream",
     "text": [
      "0 2726 123.221821\n",
      "1 616 6.13287\n",
      "2 153 0.416595\n",
      "3 359 2.072414\n",
      "4 3410 187.097628\n",
      "5 721 8.631249\n",
      "6 948 15.004844\n",
      "7 286 1.493505\n",
      "8 515 4.318793\n",
      "9 1413 32.832522\n",
      "10 565 5.661308\n",
      "11 213 0.879627\n",
      "12 5655 519.063088\n",
      "13 1096 21.315602\n",
      "14 2538 118.860802\n",
      "15 129 0.486346\n",
      "16 888 13.754305\n",
      "17 4198 297.213155\n",
      "18 703 8.219287\n",
      "19 159 0.468761\n",
      "20 509 4.273152\n",
      "21 2232 80.551672\n",
      "22 253 1.102315\n",
      "23 574 5.508012\n",
      "24 2587 110.967982\n",
      "25 705 10.193934\n",
      "26 288 1.707805\n",
      "27 547 5.123588\n",
      "28 907 14.422086\n",
      "29 423 3.243657\n",
      "30 303 1.668458\n",
      "31 2429 98.250035\n",
      "32 291 1.424227\n",
      "33 661 6.293928\n",
      "34 99 0.124987\n",
      "35 528 3.726565\n",
      "36 250 0.812515\n",
      "37 904 10.540767\n",
      "38 671 5.830989\n",
      "39 259 0.945475\n",
      "40 983 13.304501\n",
      "41 290 1.178732\n",
      "42 634 5.336002\n",
      "43 110 0.203132\n",
      "44 483 3.195837\n",
      "45 1639 36.196487\n",
      "46 253 0.914805\n",
      "47 2571 87.769942\n",
      "48 30 0.046864\n",
      "49 798 8.747788\n",
      "50 104 0.156253\n",
      "51 248 0.828148\n",
      "52 569 4.452894\n",
      "53 989 13.804879\n",
      "54 87 0.140626\n",
      "55 890 11.411039\n",
      "56 399 2.039728\n",
      "57 101 0.156255\n",
      "58 69 0.109377\n",
      "59 572 4.672683\n",
      "60 1189 19.218552\n",
      "61 248 0.828157\n",
      "62 153 0.335505\n",
      "63 49 0.046874\n",
      "64 202 0.593764\n",
      "65 252 0.868028\n",
      "66 300 1.205845\n",
      "67 338 1.570689\n",
      "68 1325 23.786528\n",
      "69 54 0.046874\n",
      "70 407 2.383854\n",
      "71 2349 77.709415\n",
      "72 229 0.710087\n",
      "73 633 5.360494\n",
      "74 1812 43.598556\n",
      "75 103 0.156254\n",
      "76 280 1.086578\n",
      "77 512 3.752505\n",
      "78 2798 108.848891\n",
      "79 1675 37.101597\n",
      "80 646 5.649642\n",
      "81 82 0.10938\n",
      "82 487 3.196648\n",
      "83 314 1.33703\n",
      "84 1279 21.455058\n",
      "85 432 2.384675\n",
      "86 631 5.1707\n",
      "87 224 0.671872\n",
      "88 789 8.3467\n",
      "89 188 0.515631\n",
      "90 223 0.602888\n",
      "91 267 0.978183\n",
      "92 552 4.181095\n",
      "93 491 3.29041\n",
      "94 116 0.234362\n",
      "95 133 0.250005\n",
      "96 249 0.835851\n",
      "97 457 3.059188\n",
      "98 961 12.557294\n",
      "99 1166 18.225834\n",
      "total user: 79125\n"
     ]
    }
   ],
   "source": [
    "from datetime import datetime\n",
    "user_id_array = np.array(user_id_list)\n",
    "#print user_id_array\n",
    "f_out = open('user_simility_10.data', 'w')\n",
    "all_cluster_labels = set(cluster.labels_)\n",
    "#print all_cluster_labels,user_id_array\n",
    "\n",
    "# compute similarity\n",
    "user_sim_dict = {}\n",
    "for label in all_cluster_labels:\n",
    "    start = datetime.now()\n",
    "    tmp_user_ids = user_id_array[[True if predict_label == label else False for predict_label in cluster.labels_]]\n",
    "    total_user_cnt = len(tmp_user_ids)\n",
    "    for i in range(total_user_cnt):\n",
    "        simility_user = []\n",
    "        user_id = tmp_user_ids[i]\n",
    "        for j in range(total_user_cnt):\n",
    "            if i == j:\n",
    "                continue\n",
    "            sim = sum(X[i] * X[j])\n",
    "            if sim > 0.9:\n",
    "                simility_user.append([tmp_user_ids[j], sim])\n",
    "        simility_user.sort(key=lambda x:x[1], reverse=True)\n",
    "        f_out.write(str(user_id) + '\\t' + json.dumps([[str(item[0]), item[1]] for item in simility_user[:10]]) + '\\n')\n",
    "        user_sim_dict[user_id] = [item[0] for item in simility_user[:10]]\n",
    "    print (label, total_user_cnt, (datetime.now() - start).total_seconds())\n",
    "f_out.close()\n",
    "print ('total user:', len(user_sim_dict))"
   ]
  },
  {
   "cell_type": "code",
   "execution_count": 31,
   "metadata": {},
   "outputs": [
    {
     "name": "stdout",
     "output_type": "stream",
     "text": [
      "27362 [199109, 21544, 42748, 73499, 198357, 265697, 188069, 218765, 48875, 182427, 251374, 191364, 230037, 179672, 185872, 80841, 193583, 195488, 267507]\n"
     ]
    }
   ],
   "source": [
    "# print user_no_dict\n",
    "# build two-way user_friend dictionary\n",
    "with open('user_sample.json') as f:\n",
    "    lines = f.readlines()\n",
    "user_friends_dict = {}\n",
    "for line in lines:\n",
    "    user_json = json.loads(line)\n",
    "    user_id = user_no_dict[user_json['user_id']]\n",
    "    friends = [user_no_dict.get(item) for item in user_json['friends']]\n",
    "    friends = [item for item in friends if item is not None]\n",
    "    if len(friends) != 0:\n",
    "        if user_id not in user_friends_dict:\n",
    "            user_friends_dict[user_id] = []\n",
    "        for uid in friends:\n",
    "            # if user B in user A's friend list, then user B is user A's friends\n",
    "            if uid not in user_friends_dict[user_id]:\n",
    "                user_friends_dict[user_id].append(uid)\n",
    "            # if user B is in user A's friend list, no matter whether user A is in or not in user B's friend list, then A is B's friend\n",
    "            if uid not in user_friends_dict:\n",
    "                user_friends_dict[uid] = [user_id]\n",
    "            else:\n",
    "                if user_id not in user_friends_dict[uid]:\n",
    "                    user_friends_dict[uid].append(user_id) \n",
    "del lines\n",
    "print (len(user_friends_dict), user_friends_dict[211479])"
   ]
  },
  {
   "cell_type": "code",
   "execution_count": 34,
   "metadata": {},
   "outputs": [
    {
     "name": "stdout",
     "output_type": "stream",
     "text": [
      "27362 [195488, 265697, 191364, 199109, 188069, 21544, 80841, 48875, 182427, 218765, 251374, 193583, 185872, 267507, 198357, 230037, 179672, 73499, 42748] 51.574849\n"
     ]
    }
   ],
   "source": [
    "# second level friends\n",
    "from datetime import datetime\n",
    "start = datetime.now()\n",
    "level_2_friends_dict = {}\n",
    "for user_id in user_friends_dict:\n",
    "    friends = user_friends_dict[user_id]\n",
    "    level_2_friends_list = []\n",
    "    for friend_id in friends:\n",
    "        friend_friends = user_friends_dict.get(friend_id, [])\n",
    "        # not in original friend list\n",
    "        friend_friends = [item for item in friend_friends if item not in friends]\n",
    "        level_2_friends_list.extend(friends)\n",
    "    level_2_friends_list = list(set(level_2_friends_list))\n",
    "    if len(level_2_friends_list) != 0:\n",
    "        level_2_friends_dict[user_id] = level_2_friends_list\n",
    "print (len(level_2_friends_dict), level_2_friends_dict[211479], (datetime.now() - start).total_seconds())"
   ]
  },
  {
   "cell_type": "code",
   "execution_count": 35,
   "metadata": {},
   "outputs": [
    {
     "name": "stdout",
     "output_type": "stream",
     "text": [
      "262561\tno\t250010,255604,265081,117050,79522,208025,79971,234822,271156,118307\tno\n"
     ]
    }
   ],
   "source": [
    "#friend recommend output:user,user recommended based on 2nd-level friend,user recommended based on similar behavior,common in those 2 lists\n",
    "f_out = open('recommend_user_result.data', 'w')\n",
    "f_out.write('user_id\\tlevel2_friends\\tsim_friends\\tcommon_recommend\\n')\n",
    "# level_2_friends_dict\n",
    "# user_friends_dict\n",
    "for user_id in user_sim_dict:\n",
    "    out_list = [str(user_id)]\n",
    "    level_2_friends = level_2_friends_dict.get(user_id, ['no'])\n",
    "    out_list.append(','.join([str(item) for item in level_2_friends]))\n",
    "    \n",
    "    sim_friends = user_sim_dict[user_id]\n",
    "    friends = user_friends_dict.get(user_id, ['no'])\n",
    "    sim_recom_friends = [str(item) for item in sim_friends if item not in friends]\n",
    "    out_list.append(','.join(sim_recom_friends))\n",
    "    \n",
    "    common_friends = [str(item) for item in sim_friends if item in level_2_friends]\n",
    "    if common_friends == []:\n",
    "        common_friends.append('no')\n",
    "    out_list.append(','.join(common_friends))\n",
    "    f_out.write('\\t'.join(out_list) + '\\n')\n",
    "print ('\\t'.join(out_list))"
   ]
  },
  {
   "cell_type": "markdown",
   "metadata": {},
   "source": [
    "# IDEA 3: RECOMMEND USER TO BUSINESS OWNERS"
   ]
  },
  {
   "cell_type": "code",
   "execution_count": 6,
   "metadata": {},
   "outputs": [
    {
     "name": "stdout",
     "output_type": "stream",
     "text": [
      "user review count > 100: 5485\n",
      "business review count > 100: 532\n",
      "total review: 28758\n"
     ]
    }
   ],
   "source": [
    "import json\n",
    "# 构建 review DataFrame\n",
    "# 删除评论数太小的商家\n",
    "# 对user_id重新编号\n",
    "with open('user.id') as f:\n",
    "    lines = f.readlines()\n",
    "user_no_dict = {}\n",
    "count = 1\n",
    "for line in lines:\n",
    "    user_no_dict[line.strip()] = count\n",
    "    count += 1\n",
    "    \n",
    "# 商户id 重新编号\n",
    "with open('business.id') as f:\n",
    "    lines = f.readlines()\n",
    "business_no_dict = {}\n",
    "count = 1\n",
    "for line in lines:\n",
    "    business_no_dict[line.strip()] = count\n",
    "    count += 1\n",
    "\n",
    "with open('user_sample.json') as f:\n",
    "    lines = f.readlines()\n",
    "user_ids = []\n",
    "for line in lines:\n",
    "    user = json.loads(line)\n",
    "    if user['review_count'] > 100:\n",
    "        user_ids.append(user['user_id'])\n",
    "print ('user review count > 100:', len(user_ids))\n",
    "\n",
    "with open('business_sample.json') as f:\n",
    "    lines = f.readlines()\n",
    "business_ids = []\n",
    "for line in lines:\n",
    "    business = json.loads(line)\n",
    "    if business['review_count'] > 100:\n",
    "        business_ids.append(business['business_id'])\n",
    "print ('business review count > 100:', len(business_ids))\n",
    "\n",
    "f = open('review_sample.json')\n",
    "f_out = open('review.tbl', 'w')\n",
    "f_out.write('user_id' + '\\t' + 'business_id' + '\\t' + 'stars' + '\\n')\n",
    "line = f.readline()\n",
    "total_review = 0\n",
    "while line:\n",
    "    one_review = json.loads(line)\n",
    "    if one_review['user_id'] in user_ids and one_review['business_id'] in business_ids:\n",
    "        f_out.write(str(user_no_dict[one_review['user_id']]) + '\\t' + str(business_no_dict[one_review['business_id']]) \n",
    "                    + '\\t' + str(one_review['stars']) + '\\n')\n",
    "        total_review += 1\n",
    "    line = f.readline()\n",
    "f.close()\n",
    "f_out.close()\n",
    "print ('total review:', total_review)"
   ]
  },
  {
   "cell_type": "code",
   "execution_count": 7,
   "metadata": {},
   "outputs": [
    {
     "name": "stdout",
     "output_type": "stream",
     "text": [
      "4299 532 (28758, 3)\n"
     ]
    },
    {
     "data": {
      "text/html": [
       "<div>\n",
       "<style>\n",
       "    .dataframe thead tr:only-child th {\n",
       "        text-align: right;\n",
       "    }\n",
       "\n",
       "    .dataframe thead th {\n",
       "        text-align: left;\n",
       "    }\n",
       "\n",
       "    .dataframe tbody tr th {\n",
       "        vertical-align: top;\n",
       "    }\n",
       "</style>\n",
       "<table border=\"1\" class=\"dataframe\">\n",
       "  <thead>\n",
       "    <tr style=\"text-align: right;\">\n",
       "      <th></th>\n",
       "      <th>user_id</th>\n",
       "      <th>b_id</th>\n",
       "      <th>rating</th>\n",
       "    </tr>\n",
       "  </thead>\n",
       "  <tbody>\n",
       "    <tr>\n",
       "      <th>0</th>\n",
       "      <td>272751</td>\n",
       "      <td>5052</td>\n",
       "      <td>3</td>\n",
       "    </tr>\n",
       "    <tr>\n",
       "      <th>1</th>\n",
       "      <td>266847</td>\n",
       "      <td>5052</td>\n",
       "      <td>4</td>\n",
       "    </tr>\n",
       "    <tr>\n",
       "      <th>2</th>\n",
       "      <td>272280</td>\n",
       "      <td>5052</td>\n",
       "      <td>2</td>\n",
       "    </tr>\n",
       "    <tr>\n",
       "      <th>3</th>\n",
       "      <td>272743</td>\n",
       "      <td>5052</td>\n",
       "      <td>4</td>\n",
       "    </tr>\n",
       "    <tr>\n",
       "      <th>4</th>\n",
       "      <td>263695</td>\n",
       "      <td>5052</td>\n",
       "      <td>4</td>\n",
       "    </tr>\n",
       "  </tbody>\n",
       "</table>\n",
       "</div>"
      ],
      "text/plain": [
       "   user_id  b_id  rating\n",
       "0   272751  5052       3\n",
       "1   266847  5052       4\n",
       "2   272280  5052       2\n",
       "3   272743  5052       4\n",
       "4   263695  5052       4"
      ]
     },
     "execution_count": 7,
     "metadata": {},
     "output_type": "execute_result"
    }
   ],
   "source": [
    "# read rating data\n",
    "import pandas as pd\n",
    "df_review = pd.read_csv('review.tbl', sep='\\t', header=0, names=['user_id', 'b_id', 'rating'])\n",
    "print (len(set(df_review['user_id'])), len(set(df_review['b_id'])), df_review.shape)\n",
    "df_review.head(5)"
   ]
  },
  {
   "cell_type": "code",
   "execution_count": 2,
   "metadata": {
    "scrolled": true
   },
   "outputs": [
    {
     "name": "stderr",
     "output_type": "stream",
     "text": [
      "D:\\Anaconda3\\lib\\site-packages\\ipykernel_launcher.py:134: DeprecationWarning: \n",
      ".ix is deprecated. Please use\n",
      ".loc for label based indexing or\n",
      ".iloc for positional indexing\n",
      "\n",
      "See the documentation here:\n",
      "http://pandas.pydata.org/pandas-docs/stable/indexing.html#deprecate_ix\n"
     ]
    },
    {
     "name": "stdout",
     "output_type": "stream",
     "text": [
      "total cost: 1710.341875\n"
     ]
    }
   ],
   "source": [
    "from math import exp\n",
    "import pandas as pd\n",
    "import numpy as np\n",
    "import pickle\n",
    "import time\n",
    "from numpy import rank\n",
    "from datetime import datetime\n",
    "\n",
    "\n",
    "def getUserNegativeItem(frame, userID):\n",
    "    '''\n",
    "    获取用户负反馈物品：热门但是用户没有进行过评分 与正反馈数量相等\n",
    "    :param frame: ratings数据\n",
    "    :param userID:用户ID\n",
    "    :return: 负反馈物品\n",
    "    '''\n",
    "    userItemlist = list(set(frame[frame['userid'] == userID]['itemid']))                       #用户评分过的物品\n",
    "    otherItemList = [item for item in set(frame['itemid'].values) if item not in userItemlist] #用户没有评分的物品\n",
    "    itemCount = [len(frame[frame['itemid'] == item]['userid']) for item in otherItemList]      #物品热门程度\n",
    "    series = pd.Series(itemCount, index=otherItemList)\n",
    "    series = series.sort_values(ascending=False)[:len(userItemlist)]                            #获取正反馈物品数量的负反馈物品\n",
    "    negativeItemList = list(series.index)\n",
    "    return negativeItemList\n",
    "\n",
    "\n",
    "def getUserPositiveItem(frame, userID):\n",
    "    '''\n",
    "    获取用户正反馈物品：用户评分过的物品\n",
    "    :param frame: ratings数据\n",
    "    :param userID: 用户ID\n",
    "    :return: 正反馈物品\n",
    "    '''\n",
    "    series = frame[frame['userid'] == userID]['itemid']\n",
    "    positiveItemList = list(series.values)\n",
    "    return positiveItemList\n",
    "\n",
    "\n",
    "def initUserItem(frame, userID=1):\n",
    "    '''\n",
    "    初始化用户正负反馈物品,正反馈标签为1,负反馈为0\n",
    "    :param frame: ratings数据\n",
    "    :param userID: 用户ID\n",
    "    :return: 正负反馈物品字典\n",
    "    '''\n",
    "    positiveItem = getUserPositiveItem(frame, userID)\n",
    "    negativeItem = getUserNegativeItem(frame, userID)\n",
    "    itemDict = {}\n",
    "    for item in positiveItem: itemDict[item] = 1\n",
    "    for item in negativeItem: itemDict[item] = 0\n",
    "    return itemDict\n",
    "\n",
    "def initUserItemPool(frame,userID):\n",
    "    '''\n",
    "    初始化目标用户样本\n",
    "    :param userID:目标用户\n",
    "    :return:\n",
    "    '''\n",
    "    userItem = []\n",
    "    for id in userID:\n",
    "        itemDict = initUserItem(frame, userID=id)\n",
    "        userItem.append({id:itemDict})\n",
    "    return userItem\n",
    "\n",
    "def initPara(userID, itemID, classCount):\n",
    "    '''\n",
    "    初始化参数q,p矩阵, 随机\n",
    "    :param userCount:用户ID\n",
    "    :param itemCount:物品ID\n",
    "    :param classCount: 隐类数量\n",
    "    :return: 参数p,q\n",
    "    '''\n",
    "    arrayp = np.random.rand(len(userID), classCount) #构造p矩阵，[0,1]内随机值\n",
    "    arrayq = np.random.rand(classCount, len(itemID)) #构造q矩阵，[0,1]内随机值\n",
    "    p = pd.DataFrame(arrayp, columns=range(0,classCount), index=userID)\n",
    "    q = pd.DataFrame(arrayq, columns=itemID, index=range(0,classCount))\n",
    "    \n",
    "    return p,q\n",
    "\n",
    "def initModel(frame, classCount):\n",
    "    '''\n",
    "    初始化模型：参数p,q,样本数据\n",
    "    :param frame: 源数据\n",
    "    :param classCount: 隐类数量\n",
    "    :return:\n",
    "    '''\n",
    "    userID = list(set(frame['userid'].values))\n",
    "    itemID = list(set(frame['itemid'].values))\n",
    "    p, q = initPara(userID, itemID, classCount)#初始化p、q矩阵\n",
    "    userItem = initUserItemPool(frame,userID)#建立用户-物品对应关系\n",
    "    return p, q, userItem\n",
    "\n",
    "def latenFactorModel(frame, classCount, iterCount, alpha, lamda):\n",
    "    '''\n",
    "    隐语义模型计算参数p,q\n",
    "    :param frame: 源数据\n",
    "    :param classCount: 隐类数量\n",
    "    :param iterCount: 迭代次数\n",
    "    :param alpha: 步长\n",
    "    :param lamda: 正则化参数\n",
    "    :return: 参数p,q\n",
    "    '''\n",
    "    p, q, userItem = initModel(frame, classCount)\n",
    "    for step in range(0, iterCount):\n",
    "        for user in userItem:\n",
    "            for userID, samples in user.items():\n",
    "                for itemID, rui in samples.items():\n",
    "                    eui = rui - lfmPredict(p, q, userID, itemID)\n",
    "                    for f in range(0, classCount):\n",
    "                        #print('step %s user %s class %s' % (step, userID, f))\n",
    "                        p[f][userID] += alpha * (eui * q[itemID][f] - lamda * p[f][userID])\n",
    "                        q[itemID][f] += alpha * (eui * p[f][userID] - lamda * q[itemID][f])\n",
    "        alpha *= 0.9\n",
    "    return p, q\n",
    "\n",
    "def sigmod(x):\n",
    "    '''\n",
    "    单位阶跃函数,将兴趣度限定在[0,1]范围内\n",
    "    :param x: 兴趣度\n",
    "    :return: 兴趣度\n",
    "    '''\n",
    "    y = 1.0/(1+exp(-x))\n",
    "    return y\n",
    "\n",
    "\n",
    "def lfmPredict(p, q, userID, itemID):\n",
    "    '''\n",
    "    利用参数p,q预测目标用户对目标物品的兴趣度\n",
    "    :param p: 用户兴趣和隐类的关系\n",
    "    :param q: 隐类和物品的关系\n",
    "    :param userID: 目标用户\n",
    "    :param itemID: 目标物品\n",
    "    :return: 预测兴趣度\n",
    "    '''\n",
    "    p = np.mat(p.ix[userID].values)\n",
    "    q = np.mat(q[itemID].values).T\n",
    "    r = (p * q).sum()\n",
    "    r = sigmod(r)\n",
    "    return r\n",
    "\n",
    "def recommend(frame, userID, p, q, TopN=10):\n",
    "    '''\n",
    "    推荐TopN个物品给目标用户\n",
    "    :param frame: 源数据\n",
    "    :param userID: 目标用户\n",
    "    :param p: 用户兴趣和隐类的关系\n",
    "    :param q: 隐类和物品的关系\n",
    "    :param TopN: 推荐数量\n",
    "    :return: 推荐物品\n",
    "    '''\n",
    "    userItemlist = list(set(frame[frame['userid'] == userID]['itemid']))\n",
    "    otherItemList = [item for item in set(frame['itemid'].values) if item not in userItemlist]\n",
    "    predictList = [lfmPredict(p, q, userID, itemID) for itemID in otherItemList]\n",
    "    series = pd.Series(predictList, index=otherItemList)\n",
    "    series = series.sort_values(ascending=False)[:TopN]\n",
    "    return series\n",
    "\n",
    "def Recall(df_test,p,q):#召回率\n",
    "    hit=0\n",
    "    all=0\n",
    "    df_userid=df_test['userid']\n",
    "    df_userid=df_userid.drop_duplicates()\n",
    "    for userid in df_userid:\n",
    "        pre_item=recommend(df_test, userid, p, q)\n",
    "        df_user_item=df_test.loc[df_test['userid'] == userid]\n",
    "        true_item=df_user_item['itemid']\n",
    "        for itemid,prob in pre_item.items():\n",
    "            if itemid in true_item:\n",
    "                hit+=1\n",
    "        all+=len(true_item)\n",
    "    return hit/(all*1.0)\n",
    "\n",
    "def Precision(df_test,p,q):\n",
    "    hit=0\n",
    "    all=0\n",
    "    df_userid=df_test['userid']\n",
    "    df_userid=df_userid.drop_duplicates()\n",
    "    for userid in df_userid:\n",
    "        pre_item=recommend(df_test, userid, p, q)\n",
    "        df_user_item=df_test.loc[df_test['userid'] == userid]\n",
    "        true_item=df_user_item['itemid']\n",
    "        for itemid,prob in pre_item.items():\n",
    "            if itemid in true_item:\n",
    "                hit+=1\n",
    "        all+=len(pre_item)\n",
    "    return hit/(all*1.0)\n",
    "\n",
    "# \n",
    "start = datetime.now()\n",
    "#导入数据\n",
    "#df_sample = pd.read_csv('review.tbl', sep='\\t', header=0, names=['userid','itemid','ratings']) \n",
    "df_sample = pd.read_csv('review.tbl', sep='\\t', header=0, names=['itemid','userid','ratings'])  \n",
    "#模型训练\n",
    "p, q = latenFactorModel(df_sample.iloc[:, :], 5, 3, 0.02, 0.01)\n",
    "print ('total cost:', (datetime.now() - start).total_seconds())\n",
    "#模型评估\n",
    "#df_test=df_sample.sample(frac=0.2)#抽20%来测试\n",
    "#print (Recall(df_test,p,q))#召回率\n",
    "#print (Precision(df_test,p,q))#准确率"
   ]
  },
  {
   "cell_type": "code",
   "execution_count": 43,
   "metadata": {},
   "outputs": [
    {
     "name": "stdout",
     "output_type": "stream",
     "text": [
      "done\n"
     ]
    }
   ],
   "source": [
    "f = open('business_recommend.data', 'w')\n",
    "for userid in set(df_sample.iloc[:, :]['userid']):\n",
    "    pre_item = recommend(df_sample.iloc[:, :], userid, p, q)\n",
    "    f.write(str(userid) + '\\t' + '|'.join([str(item[0]) + ',' + str(item[1]) for item in zip(pre_item.index, pre_item)]) + '\\n')\n",
    "    #print pre_item\n",
    "    #break\n",
    "f.close()\n",
    "print ('done')"
   ]
  },
  {
   "cell_type": "markdown",
   "metadata": {},
   "source": [
    "*------------------------\n",
    "\n",
    "### Problem 4: Prepare a 90 second Pitch and *present* it in the class (20 points)\n",
    "\n",
    "* Prepare the slide(s) for the Pitch (10 points)\n",
    "* Present it in the class (10 points).\n",
    "\n",
    "*Advice:  It should really only be one or two slides, but a really good one or two slides!  Also, it is ok to select one person on the team to give the 90 second pitch (though a very organized multi-person 90 second pitch can be very impressive!) *\n",
    "\n"
   ]
  },
  {
   "cell_type": "markdown",
   "metadata": {},
   "source": [
    "# Report: communicate the results (20 points)\n",
    "\n",
    "(1) (5 points) What is your business proposition?\n",
    "\n",
    "(2) (5 points) Why this topic is interesting or important to you? (Motivations)\n",
    "\n",
    "(3) (5 points) How did you analyse the data?\n",
    "\n",
    "(4) (5 points) How does your analysis support your business proposition?\n",
    "(please include figures or tables in the report, but no source code)"
   ]
  },
  {
   "cell_type": "markdown",
   "metadata": {},
   "source": [
    "# Slides (for 10 minutes of presentation) (20 points)\n",
    "\n",
    "\n",
    "1. (5 points) Motivation about the data collection, why the topic is interesting to you. \n",
    "\n",
    "2. (10 points) Communicating Results (figure/table)\n",
    "\n",
    "3. (5 points) Story telling (How all the parts (data, analysis, result) fit together as a story?)"
   ]
  },
  {
   "cell_type": "markdown",
   "metadata": {},
   "source": [
    "*-----------------\n",
    "# Done\n",
    "\n",
    "All set! \n",
    "\n",
    "** What do you need to submit?**\n",
    "\n",
    "* **Notebook File**: Save this IPython notebook, and find the notebook file in your folder (for example, \"filename.ipynb\"). This is the file you need to submit. Please make sure all the plotted tables and figures are in the notebook. If you used \"ipython notebook --pylab=inline\" to open the notebook, all the figures and tables should have shown up in the notebook.\n",
    "\n",
    "\n",
    "* **PPT Slides**: **NOTE, for this Case Study you need to prepare two (2) PPT files!**  One for the 90 second Pitch and one for a normal 10 minute presentation.\n",
    "\n",
    "* ** Report**: please prepare a report (less than 10 pages) to report what you found in the data.\n",
    "\n",
    "     (please include figures or tables in the report, **but no source code**)\n",
    "\n",
    "*Please compress all the files into a single zipped file.*\n",
    "\n",
    "\n",
    "** How to submit: **\n",
    "\n",
    "        Please submit through email to Prof. Paffenroth (rcpaffenroth@wpi.edu) *and* the TA Yingnan Liu (yliu18@wpi.edu).\n",
    "\n",
    "#### We auto-process the submissions so make sure your subject line is *exactly*:\n",
    "\n",
    "### DS501 Case Study 4 Team ??\n",
    "\n",
    "#### where ?? is your team number.\n",
    "        \n",
    "** Note: Each team just needs to submits one submission **"
   ]
  },
  {
   "cell_type": "code",
   "execution_count": null,
   "metadata": {
    "collapsed": true
   },
   "outputs": [],
   "source": []
  }
 ],
 "metadata": {
  "kernelspec": {
   "display_name": "Python 3",
   "language": "python",
   "name": "python3"
  },
  "language_info": {
   "codemirror_mode": {
    "name": "ipython",
    "version": 3
   },
   "file_extension": ".py",
   "mimetype": "text/x-python",
   "name": "python",
   "nbconvert_exporter": "python",
   "pygments_lexer": "ipython3",
   "version": "3.6.1"
  }
 },
 "nbformat": 4,
 "nbformat_minor": 1
}
